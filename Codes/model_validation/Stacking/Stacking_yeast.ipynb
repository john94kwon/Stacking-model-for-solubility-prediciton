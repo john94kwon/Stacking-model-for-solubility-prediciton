{
 "cells": [
  {
   "cell_type": "code",
   "execution_count": 1,
   "id": "968b9e86",
   "metadata": {},
   "outputs": [],
   "source": [
    "import joblib\n",
    "import pandas as pd\n",
    "import numpy as np\n",
    "from sklearn import metrics\n",
    "from sklearn.metrics import r2_score"
   ]
  },
  {
   "cell_type": "code",
   "execution_count": 2,
   "id": "993a388a",
   "metadata": {},
   "outputs": [],
   "source": [
    "#defining metrics\n",
    "\n",
    "def analysis(y_true, y_pred):\n",
    "    binary_pred = [1 if pred >= 0.5 else 0 for pred in y_pred]\n",
    "    binary_true = [1 if true >= 0.5 else 0 for true in y_true]\n",
    "\n",
    "    # continous evaluate\n",
    "    r2 = metrics.r2_score(y_true, y_pred)\n",
    "    rmse = np.square(np.subtract(y_true, y_pred)).mean()\n",
    "    # binary evaluate\n",
    "    binary_acc = metrics.accuracy_score(binary_true, binary_pred)\n",
    "    precision = metrics.precision_score(binary_true, binary_pred)\n",
    "    recall = metrics.recall_score(binary_true, binary_pred)\n",
    "    f1 = metrics.f1_score(binary_true, binary_pred)\n",
    "    auc = metrics.roc_auc_score(binary_true, y_pred)\n",
    "    mcc = metrics.matthews_corrcoef(binary_true, binary_pred)\n",
    "    TN, FP, FN, TP = metrics.confusion_matrix(binary_true, binary_pred).ravel()\n",
    "    sensitivity = 1.0 * TP / (TP + FN)\n",
    "    specificity = 1.0 * TN / (FP + TN)\n",
    "\n",
    "    result = {\n",
    "        'r2': r2,\n",
    "        'rmse': rmse,\n",
    "        'binary_acc': binary_acc,\n",
    "        'precision': precision,\n",
    "        'recall': recall,\n",
    "        'f1': f1,\n",
    "        'auc': auc,\n",
    "        'mcc': mcc,\n",
    "        'sensitivity': sensitivity,\n",
    "        'specificity': specificity,\n",
    "    }\n",
    "    return result"
   ]
  },
  {
   "cell_type": "code",
   "execution_count": 3,
   "id": "1fe841c7",
   "metadata": {},
   "outputs": [],
   "source": [
    "model = joblib.load(\"C:\\\\Users\\\\johnkwon\\\\Desktop\\\\[Ultima]_Solubility\\\\Models\\\\Stacking_new.sav\")\n",
    "yeast_result = pd.read_excel(\"C:\\\\Users\\\\johnkwon\\\\Desktop\\\\[Ultima]_Solubility\\\\Data\\\\Yeast_data\\\\Stacking\\\\fly.xlsx\")\n",
    "\n",
    "\n",
    "\n",
    "yeast_MLP_testing_prediction = yeast_result[\"MLP\"]\n",
    "yeast_GCN_testing_prediction = yeast_result[\"GCN\"]\n",
    "yeast_experimental_testing_solubility = yeast_result[\"solubility\"]\n",
    "\n",
    "\n",
    "yeast_MLP_testing_prediction = yeast_MLP_testing_prediction.values.tolist()\n",
    "yeast_GCN_testing_prediction = yeast_GCN_testing_prediction.values.tolist()\n",
    "yeast_experimental_testing_solubility = yeast_experimental_testing_solubility.values.tolist()"
   ]
  },
  {
   "cell_type": "code",
   "execution_count": 4,
   "id": "95b83f0d",
   "metadata": {},
   "outputs": [],
   "source": [
    "yeast_input=np.column_stack((yeast_MLP_testing_prediction, yeast_GCN_testing_prediction))\n",
    "yeast_target=np.array(yeast_experimental_testing_solubility)"
   ]
  },
  {
   "cell_type": "code",
   "execution_count": 5,
   "id": "bfa94505",
   "metadata": {},
   "outputs": [
    {
     "name": "stdout",
     "output_type": "stream",
     "text": [
      "Yeast R2 score:\n"
     ]
    }
   ],
   "source": [
    "stck_reg_yeast = model.predict(yeast_input)\n",
    "\n",
    "print(\"Yeast R2 score:\"\n",
    "        % metrics.r2_score(yeast_target, stck_reg_yeast))"
   ]
  },
  {
   "cell_type": "code",
   "execution_count": 18,
   "id": "21416d1b",
   "metadata": {},
   "outputs": [
    {
     "data": {
      "text/plain": [
       "Text(0, 0.5, 'Experimental solubility')"
      ]
     },
     "execution_count": 18,
     "metadata": {},
     "output_type": "execute_result"
    },
    {
     "data": {
      "image/png": "[encoded data removed]",
      "text/plain": [
       "<Figure size 500x500 with 1 Axes>"
      ]
     },
     "metadata": {},
     "output_type": "display_data"
    }
   ],
   "source": [
    "import matplotlib.pyplot as plt\n",
    "fig, ax = plt.subplots(figsize=(5, 5))\n",
    "plt.xlim([-0.05,1.05])\n",
    "plt.ylim([-0.05,1.05])\n",
    "plt.plot([0, 1], [0, 1],color='black',linewidth=0.5)\n",
    "plt.scatter(yeast_target, stck_reg_yeast,s=12, color='crimson')\n",
    "plt.xlabel('Predicted solubility')\n",
    "plt.ylabel('Experimental solubility')\n"
   ]
  },
  {
   "cell_type": "code",
   "execution_count": 21,
   "id": "0fc8ecd5",
   "metadata": {},
   "outputs": [
    {
     "data": {
      "text/plain": [
       "{'r2': 0.4535209851432992,\n",
       " 'rmse': 0.04697668933667956,\n",
       " 'binary_acc': 0.7407407407407407,\n",
       " 'precision': 0.8833333333333333,\n",
       " 'recall': 0.7162162162162162,\n",
       " 'f1': 0.791044776119403,\n",
       " 'auc': 0.890302066772655,\n",
       " 'mcc': 0.47699459889687285,\n",
       " 'sensitivity': 0.7162162162162162,\n",
       " 'specificity': 0.7941176470588235}"
      ]
     },
     "execution_count": 21,
     "metadata": {},
     "output_type": "execute_result"
    }
   ],
   "source": [
    "analysis(yeast_target,stck_reg_yeast)"
   ]
  },
  {
   "cell_type": "code",
   "execution_count": 8,
   "id": "bfd219e1",
   "metadata": {},
   "outputs": [],
   "source": [
    "df_target = pd.DataFrame(yeast_target)\n",
    "df_prediction = pd.DataFrame(stck_reg_yeast)\n",
    "\n",
    "merge = [df_target,df_prediction]\n",
    "yeast_final = pd.concat(merge, axis=1)\n",
    "\n",
    "\n",
    "yeast_final.to_csv(\"C:\\\\Users\\\\johnkwon\\\\Desktop\\\\[Ultima]_Solubility\\\\Data\\\\Yeast_data\\\\yeast_final_result_new.csv\")"
   ]
  },
  {
   "cell_type": "code",
   "execution_count": 19,
   "id": "bbdbe17d",
   "metadata": {},
   "outputs": [
    {
     "name": "stdout",
     "output_type": "stream",
     "text": [
      "Pearson correlation coefficient: 0.7051001872086012\n",
      "p-value: 1.6275237794137697e-17\n"
     ]
    }
   ],
   "source": [
    "from scipy.stats import pearsonr\n",
    "\n",
    "\n",
    "# Calculate Pearson correlation coefficient and p-value\n",
    "corr, p_value = pearsonr(yeast_target,stck_reg_yeast)\n",
    "\n",
    "print(\"Pearson correlation coefficient:\", corr)\n",
    "print(\"p-value:\", p_value)"
   ]
  }
 ],
 "metadata": {
  "kernelspec": {
   "display_name": "Python 3 (ipykernel)",
   "language": "python",
   "name": "python3"
  },
  "language_info": {
   "codemirror_mode": {
    "name": "ipython",
    "version": 3
   },
   "file_extension": ".py",
   "mimetype": "text/x-python",
   "name": "python",
   "nbconvert_exporter": "python",
   "pygments_lexer": "ipython3",
   "version": "3.9.13"
  }
 },
 "nbformat": 4,
 "nbformat_minor": 5
}
