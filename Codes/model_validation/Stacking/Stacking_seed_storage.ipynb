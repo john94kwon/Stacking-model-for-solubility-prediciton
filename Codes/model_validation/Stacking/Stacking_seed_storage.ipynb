{
 "cells": [
  {
   "cell_type": "code",
   "execution_count": 1,
   "id": "968b9e86",
   "metadata": {},
   "outputs": [],
   "source": [
    "import joblib\n",
    "import pandas as pd\n",
    "import numpy as np\n",
    "from sklearn import metrics\n",
    "from sklearn.metrics import r2_score"
   ]
  },
  {
   "cell_type": "code",
   "execution_count": 2,
   "id": "1fe841c7",
   "metadata": {},
   "outputs": [],
   "source": [
    "model = joblib.load(\"C:\\\\Users\\\\johnkwon\\\\Desktop\\\\[Ultima]_Solubility\\\\Models\\\\Stacking\\\\Stacking.sav\")\n",
    "\n",
    "seed_result = pd.read_csv(\"C:\\\\Users\\\\johnkwon\\\\Desktop\\\\[Ultima]_Solubility\\\\Data\\\\Generative\\\\whole_result.csv\")\n",
    "\n",
    "seed_MLP_testing_prediction = seed_result[\"MLP\"]\n",
    "seed_GCN_testing_prediction = seed_result[\"GCN\"]\n",
    "\n",
    "seed_MLP_testing_prediction = seed_MLP_testing_prediction.values.tolist()\n",
    "seed_GCN_testing_prediction = seed_GCN_testing_prediction.values.tolist()\n",
    "\n",
    "seed_input=np.column_stack((seed_MLP_testing_prediction, seed_GCN_testing_prediction))\n",
    "stck_reg_seed = model.predict(seed_input)"
   ]
  },
  {
   "cell_type": "code",
   "execution_count": 3,
   "id": "bfd219e1",
   "metadata": {},
   "outputs": [],
   "source": [
    "\n",
    "df_prediction = pd.DataFrame(stck_reg_seed)\n",
    "df_prediction.to_csv(\"C:\\\\Users\\\\johnkwon\\\\Desktop\\\\[Ultima]_Solubility\\\\Data\\\\Generative\\\\stacking_prediciton.csv\")"
   ]
  },
  {
   "cell_type": "code",
   "execution_count": null,
   "id": "eceec044",
   "metadata": {},
   "outputs": [],
   "source": []
  }
 ],
 "metadata": {
  "kernelspec": {
   "display_name": "Python 3 (ipykernel)",
   "language": "python",
   "name": "python3"
  },
  "language_info": {
   "codemirror_mode": {
    "name": "ipython",
    "version": 3
   },
   "file_extension": ".py",
   "mimetype": "text/x-python",
   "name": "python",
   "nbconvert_exporter": "python",
   "pygments_lexer": "ipython3",
   "version": "3.9.13"
  }
 },
 "nbformat": 4,
 "nbformat_minor": 5
}
