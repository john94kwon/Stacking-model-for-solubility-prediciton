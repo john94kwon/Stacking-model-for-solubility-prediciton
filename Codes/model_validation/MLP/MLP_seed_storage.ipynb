{
 "cells": [
  {
   "cell_type": "code",
   "execution_count": 2,
   "metadata": {},
   "outputs": [],
   "source": [
    "import pathlib\n",
    "import matplotlib.pyplot as plt\n",
    "import pandas as pd\n",
    "import seaborn as sns\n",
    "import tensorflow as tf\n",
    "from tensorflow import keras\n",
    "from tensorflow.keras import layers\n",
    "import numpy as np\n",
    "from sklearn import metrics\n",
    "from sklearn.preprocessing import MinMaxScaler, StandardScaler, LabelEncoder, PolynomialFeatures\n",
    "from sklearn.model_selection import KFold, train_test_split, GridSearchCV\n",
    "from sklearn.linear_model import LinearRegression, Ridge, RidgeCV, Lasso, ElasticNet\n",
    "from sklearn.svm import SVR\n",
    "from sklearn.ensemble import RandomForestRegressor\n",
    "from sklearn.metrics import r2_score, mean_squared_error\n",
    "from tensorflow.keras.models import Sequential, load_model\n",
    "from tensorflow.keras.layers import Dense, Input, Dropout, BatchNormalization"
   ]
  },
  {
   "cell_type": "code",
   "execution_count": 4,
   "metadata": {},
   "outputs": [],
   "source": [
    "seed_feature_data = pd.read_csv(\"C:\\\\Users\\\\johnkwon\\\\Desktop\\\\[Ultima]_Solubility\\\\Data\\\\Seed_storage_data\\\\Testing\\\\MLP\\\\structure_features.csv\", header = 0)\n",
    "\n",
    "seed_index = seed_feature_data['Number']\n",
    "seed_feature_data = seed_feature_data.drop(['Number'], axis=1)\n",
    "\n",
    "\n",
    "mean=np.load(\"C:\\\\Users\\\\johnkwon\\\\Desktop\\\\[Ultima]_Solubility\\\\Data\\\\Ecoli_data\\\\Scaling\\\\MLP\\\\mean.npy\")\n",
    "std=np.load(\"C:\\\\Users\\\\johnkwon\\\\Desktop\\\\[Ultima]_Solubility\\\\Data\\\\Ecoli_data\\\\Scaling\\\\MLP\\\\std.npy\")\n",
    "\n",
    "seed_input = (seed_feature_data.values - mean)/std\n"
   ]
  },
  {
   "cell_type": "code",
   "execution_count": 6,
   "metadata": {},
   "outputs": [
    {
     "name": "stdout",
     "output_type": "stream",
     "text": [
      "7/7 [==============================] - 0s 1ms/step\n"
     ]
    }
   ],
   "source": [
    "model = load_model(\"C:\\\\Users\\\\johnkwon\\\\Desktop\\\\[Ultima]_Solubility\\\\Models\\\\MLP\\\\MPL.h5\")\n",
    "test_predictions = model.predict(seed_input).flatten()"
   ]
  },
  {
   "cell_type": "code",
   "execution_count": 5,
   "metadata": {},
   "outputs": [],
   "source": [
    "df = pd.DataFrame(test_predictions)\n",
    "merge = [seed_index, df]\n",
    "seed_result = pd.concat(merge, axis=1)\n",
    "seed_result.to_csv(\"C:\\\\Users\\\\johnkwon\\\\Desktop\\\\[Ultima]_Solubility\\\\Data\\\\Generative\\\\MLP\\\\MLP_result.csv\")"
   ]
  },
  {
   "cell_type": "code",
   "execution_count": null,
   "metadata": {},
   "outputs": [],
   "source": []
  }
 ],
 "metadata": {
  "kernelspec": {
   "display_name": "Python 3 (ipykernel)",
   "language": "python",
   "name": "python3"
  },
  "language_info": {
   "codemirror_mode": {
    "name": "ipython",
    "version": 3
   },
   "file_extension": ".py",
   "mimetype": "text/x-python",
   "name": "python",
   "nbconvert_exporter": "python",
   "pygments_lexer": "ipython3",
   "version": "3.9.13"
  }
 },
 "nbformat": 4,
 "nbformat_minor": 4
}
