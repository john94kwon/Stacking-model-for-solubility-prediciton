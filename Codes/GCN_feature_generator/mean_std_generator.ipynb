{
 "cells": [
  {
   "cell_type": "code",
   "execution_count": 11,
   "id": "e3f97886",
   "metadata": {},
   "outputs": [],
   "source": [
    "import os\n",
    "import numpy as np\n",
    "import pandas as pd\n",
    "from tqdm import tqdm\n",
    "\n",
    "\n",
    "\"C:\\\\Users\\\\johnkwon\\\\Desktop\\\\[Ultima]_Solubility\\\\Data\\\\Ecoli_data\\\\Training\\\\GCN\\\\7A features\\\\\"\n",
    "\"C:\\\\Users\\\\johnkwon\\\\Desktop\\\\[Ultima]_Solubility\\\\Data\\\\Ecoli_data\\\\Training\\\\GCN\\\\Acarbon_coordinates_centered\\\\\"\n",
    "\"C:\\\\Users\\\\johnkwon\\\\Desktop\\\\[Ultima]_Solubility\\\\Data\\\\Ecoli_data\\\\Training\\\\GCN\\\\Blosum features\\\\\"\n",
    "\n",
    "\n",
    "    \n",
    "def cal_mean_std():\n",
    "    total_length = 0\n",
    "    mean = np.zeros(23)\n",
    "    mean_square = np.zeros(23)\n",
    "    for name in tqdm(os.listdir(\"C:\\\\Users\\\\johnkwon\\\\Desktop\\\\[Ultima]_Solubility\\\\Data\\\\Ecoli_data\\\\Training\\\\GCN\\\\Blosum features\\\\\")):\n",
    "        matrix = np.load(\"C:\\\\Users\\\\johnkwon\\\\Desktop\\\\[Ultima]_Solubility\\\\Data\\\\Ecoli_data\\\\Training\\\\GCN\\\\Blosum features\\\\\" + name)\n",
    "        total_length += matrix.shape[0]\n",
    "        mean += np.sum(matrix, axis=0)\n",
    "        mean_square += np.sum(np.square(matrix), axis=0)\n",
    "\n",
    "    mean /= total_length  # EX\n",
    "    mean_square /= total_length  # E(X^2)\n",
    "    std = np.sqrt(np.subtract(mean_square, np.square(mean)))  # DX = E(X^2)-(EX)^2, std = sqrt(DX)\n",
    "\n",
    "    np.save(\"C:\\\\Users\\\\johnkwon\\\\Desktop\\\\[Ultima]_Solubility\\\\Data\\\\Ecoli_data\\\\Training\\\\GCN\\\\Blosum features\\\\mean.npy\", mean)\n",
    "    np.save(\"C:\\\\Users\\\\johnkwon\\\\Desktop\\\\[Ultima]_Solubility\\\\Data\\\\Ecoli_data\\\\Training\\\\GCN\\\\Blosum features\\\\std.npy\", std)\n"
   ]
  },
  {
   "cell_type": "code",
   "execution_count": 12,
   "id": "0450211a",
   "metadata": {},
   "outputs": [
    {
     "name": "stderr",
     "output_type": "stream",
     "text": [
      "100%|██████████| 2237/2237 [00:09<00:00, 240.87it/s]\n"
     ]
    }
   ],
   "source": [
    "cal_mean_std()"
   ]
  },
  {
   "cell_type": "code",
   "execution_count": 13,
   "id": "da05d5cc",
   "metadata": {},
   "outputs": [],
   "source": [
    "avg1 = np.load(\"C:\\\\Users\\\\johnkwon\\\\Desktop\\\\[Ultima]_Solubility\\\\Data\\\\Ecoli_data\\\\Training\\\\GCN\\\\Blosum features\\\\mean.npy\")\n",
    "avg2 = np.load(\"C:\\\\Users\\\\johnkwon\\\\Desktop\\\\[Ultima]_Solubility\\\\Data\\\\Ecoli_data\\\\Training\\\\GCN\\\\7A features\\\\mean.npy\")\n",
    "avg3 = np.load(\"C:\\\\Users\\\\johnkwon\\\\Desktop\\\\[Ultima]_Solubility\\\\Data\\\\Ecoli_data\\\\Training\\\\GCN\\\\Acarbon_coordinates_centered\\\\mean.npy\")"
   ]
  },
  {
   "cell_type": "code",
   "execution_count": 14,
   "id": "dc196686",
   "metadata": {},
   "outputs": [],
   "source": [
    "std1 = np.load(\"C:\\\\Users\\\\johnkwon\\\\Desktop\\\\[Ultima]_Solubility\\\\Data\\\\Ecoli_data\\\\Training\\\\GCN\\\\Blosum features\\\\std.npy\")\n",
    "std2 = np.load(\"C:\\\\Users\\\\johnkwon\\\\Desktop\\\\[Ultima]_Solubility\\\\Data\\\\Ecoli_data\\\\Training\\\\GCN\\\\7A features\\\\std.npy\")\n",
    "std3 = np.load(\"C:\\\\Users\\\\johnkwon\\\\Desktop\\\\[Ultima]_Solubility\\\\Data\\\\Ecoli_data\\\\Training\\\\GCN\\\\Acarbon_coordinates_centered\\\\std.npy\")\n"
   ]
  },
  {
   "cell_type": "code",
   "execution_count": 15,
   "id": "ff415410",
   "metadata": {},
   "outputs": [],
   "source": [
    "feature_matrix = np.concatenate([avg1, avg2, avg3], axis = 0)\n",
    "std_matrix = np.concatenate([std1, std2, std3],axis = 0)"
   ]
  },
  {
   "cell_type": "code",
   "execution_count": 16,
   "id": "aeccbe55",
   "metadata": {},
   "outputs": [],
   "source": [
    "\"C:\\\\Users\\\\johnkwon\\\\Desktop\\\\[Ultima]_Solubility\\\\Data\\\\Ecoli_data\\\\Scaling\\\\GCN\\\\\"\n",
    "\n",
    "np.save(\"C:\\\\Users\\\\johnkwon\\\\Desktop\\\\[Ultima]_Solubility\\\\Data\\\\Ecoli_data\\\\Scaling\\\\GCN\\\\mean_matrix.npy\",feature_matrix)\n",
    "np.save(\"C:\\\\Users\\\\johnkwon\\\\Desktop\\\\[Ultima]_Solubility\\\\Data\\\\Ecoli_data\\\\Scaling\\\\GCN\\\\std_matrix.npy\",std_matrix)"
   ]
  }
 ],
 "metadata": {
  "kernelspec": {
   "display_name": "Python 3 (ipykernel)",
   "language": "python",
   "name": "python3"
  },
  "language_info": {
   "codemirror_mode": {
    "name": "ipython",
    "version": 3
   },
   "file_extension": ".py",
   "mimetype": "text/x-python",
   "name": "python",
   "nbconvert_exporter": "python",
   "pygments_lexer": "ipython3",
   "version": "3.9.13"
  }
 },
 "nbformat": 4,
 "nbformat_minor": 5
}
