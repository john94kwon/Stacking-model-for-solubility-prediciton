{
 "cells": [
  {
   "cell_type": "code",
   "execution_count": 1,
   "metadata": {},
   "outputs": [],
   "source": [
    "import pathlib\n",
    "import matplotlib.pyplot as plt\n",
    "import pandas as pd\n",
    "import seaborn as sns\n",
    "import tensorflow as tf\n",
    "from tensorflow import keras\n",
    "from tensorflow.keras import layers\n",
    "from sklearn import metrics\n",
    "from sklearn.preprocessing import MinMaxScaler, StandardScaler, LabelEncoder, PolynomialFeatures\n",
    "from sklearn.model_selection import KFold, train_test_split, GridSearchCV\n",
    "from sklearn.linear_model import LinearRegression, Ridge, RidgeCV, Lasso, ElasticNet\n",
    "from sklearn.svm import SVR\n",
    "from sklearn.ensemble import RandomForestRegressor\n",
    "from sklearn.metrics import r2_score, mean_squared_error\n",
    "from tensorflow.keras.models import Sequential, load_model\n",
    "from tensorflow.keras.layers import Dense, Input, Dropout, BatchNormalization\n",
    "import numpy as np\n",
    "import joblib"
   ]
  },
  {
   "cell_type": "code",
   "execution_count": 2,
   "metadata": {},
   "outputs": [],
   "source": [
    "#Loading training and testing set\n",
    "\n",
    "feature_data_train = pd.read_csv(\"C:\\\\Users\\\\johnkwon\\\\Desktop\\\\[Ultima]_Solubility\\\\Data\\\\Ecoli_data\\\\Training\\\\MLP\\\\MLP_feature_training.csv\", header = 0)\n",
    "solubility_data_train = pd.read_csv(\"C:\\\\Users\\\\johnkwon\\\\Desktop\\\\[Ultima]_Solubility\\\\Data\\\\Ecoli_data\\\\Training\\\\MLP\\\\solubility_training.csv\", header = 0)\n"
   ]
  },
  {
   "cell_type": "code",
   "execution_count": 3,
   "metadata": {},
   "outputs": [],
   "source": [
    "#Preprocessing: dropping unnecessary columns\n",
    "train_index = feature_data_train['Number']\n",
    "feature_data_train = feature_data_train.drop(['Number', 'FASTA', 'gene','calculated pI'], axis=1)\n",
    "solubility_data_train = solubility_data_train.drop(['Number'],axis=1)\n",
    "\n",
    "test_index = feature_data_test['Number']\n",
    "feature_data_test = feature_data_test.drop(['Number', 'FASTA', 'gene','calculated pI'], axis=1)\n",
    "solubility_data_test = solubility_data_test.drop(['Number'],axis=1)"
   ]
  },
  {
   "cell_type": "code",
   "execution_count": 4,
   "metadata": {},
   "outputs": [],
   "source": [
    "scaler_mean = feature_data_train.mean()\n",
    "scaler_std = feature_data_train.std()\n",
    "\n",
    "mean_list=[]\n",
    "std_list=[]\n",
    "\n",
    "for i in range(len(scaler_mean)):\n",
    "    mean_list.append(scaler_mean[i])\n",
    "    std_list.append(scaler_std[i])\n",
    "\n",
    "mean = np.array(mean_list)\n",
    "std = np.array(std_list)\n",
    "\n",
    "\n",
    "np.save(\"C:\\\\Users\\\\johnkwon\\\\Desktop\\\\[Ultima]_Solubility\\\\Data\\\\Ecoli_data\\\\Scaling\\\\MLP\\\\mean.npy\",mean)\n",
    "np.save(\"C:\\\\Users\\\\johnkwon\\\\Desktop\\\\[Ultima]_Solubility\\\\Data\\\\Ecoli_data\\\\Scaling\\\\MLP\\\\std.npy\",std)"
   ]
  },
  {
   "cell_type": "code",
   "execution_count": 6,
   "metadata": {},
   "outputs": [],
   "source": [
    "#Scaling, defining input and target data for modeling\n",
    "inputs_train = (feature_data_train.values - mean)/std\n",
    "target_train = solubility_data_train\n",
    "\n",
    "inputs_test = (feature_data_test.values - mean)/std\n",
    "target_test = solubility_data_test\n",
    "\n",
    "target_train = target_train.to_numpy()\n",
    "target_test = target_test.to_numpy()"
   ]
  },
  {
   "cell_type": "code",
   "execution_count": 15,
   "metadata": {},
   "outputs": [],
   "source": [
    "#defining metrics\n",
    "#base code retrived from  J Cheminform 13, 7 (2021). https://doi.org/10.1186/s13321-021-00488-1\n",
    "\n",
    "def analysis(y_true, y_pred):\n",
    "    binary_pred = [1 if pred >= 0.5 else 0 for pred in y_pred]\n",
    "    binary_true = [1 if true >= 0.5 else 0 for true in y_true]\n",
    "\n",
    "    # continous evaluate\n",
    "    r2 = metrics.r2_score(y_true, y_pred)\n",
    "    rmse = (mean_squared_error(y_true,y_pred))\n",
    "    \n",
    "    \n",
    "    \n",
    "    # binary evaluate\n",
    "    binary_acc = metrics.accuracy_score(binary_true, binary_pred)\n",
    "    precision = metrics.precision_score(binary_true, binary_pred)\n",
    "    recall = metrics.recall_score(binary_true, binary_pred)\n",
    "    f1 = metrics.f1_score(binary_true, binary_pred)\n",
    "    auc = metrics.roc_auc_score(binary_true, y_pred)\n",
    "    mcc = metrics.matthews_corrcoef(binary_true, binary_pred)\n",
    "    TN, FP, FN, TP = metrics.confusion_matrix(binary_true, binary_pred).ravel()\n",
    "    sensitivity = 1.0 * TP / (TP + FN)\n",
    "    specificity = 1.0 * TN / (FP + TN)\n",
    "\n",
    "    result = {\n",
    "        'r2': r2,\n",
    "        'rmse': rmse**(1/2),\n",
    "        'binary_acc': binary_acc,\n",
    "        'precision': precision,\n",
    "        'recall': recall,\n",
    "        'f1': f1,\n",
    "        'auc': auc,\n",
    "        'mcc': mcc,\n",
    "        'sensitivity': sensitivity,\n",
    "        'specificity': specificity,\n",
    "    }\n",
    "    return result"
   ]
  },
  {
   "cell_type": "code",
   "execution_count": 16,
   "metadata": {},
   "outputs": [
    {
     "data": {
      "text/plain": [
       "{'r2': 0.4306789262251819,\n",
       " 'rmse': 0.2464563514948995,\n",
       " 'binary_acc': 0.7838926174496644,\n",
       " 'precision': 0.7544910179640718,\n",
       " 'recall': 0.7613293051359517,\n",
       " 'f1': 0.7578947368421053,\n",
       " 'auc': 0.8470890435950202,\n",
       " 'mcc': 0.5627690737636647,\n",
       " 'sensitivity': 0.7613293051359517,\n",
       " 'specificity': 0.8019323671497585}"
      ]
     },
     "execution_count": 16,
     "metadata": {},
     "output_type": "execute_result"
    }
   ],
   "source": [
    "#Support vector regressor\n",
    "svr_reg = SVR(kernel = \"rbf\",gamma=0.1, C=0.05) #\"rbf\"\n",
    "svr_reg.fit(inputs_train, np.ravel(target_train,order='C'))\n",
    "svr_reg_train= svr_reg.predict(inputs_train)\n",
    "svr_reg_test= svr_reg.predict(inputs_test)\n",
    "\n",
    "\n",
    "\n",
    "filename = 'C:\\\\Users\\\\johnkwon\\\\Desktop\\\\[Ultima]_Solubility\\\\Models\\\\SVR.sav'\n",
    "joblib.dump(svr_reg, filename)\n",
    "\n",
    "\n",
    "#analysis(target_train, svr_reg_train)\n",
    "analysis(target_test, svr_reg_test)"
   ]
  },
  {
   "cell_type": "code",
   "execution_count": 11,
   "metadata": {},
   "outputs": [],
   "source": [
    "from sklearn import linear_model\n",
    "reg = linear_model.LinearRegression()\n",
    "reg.fit(inputs_train,np.ravel(target_train))\n",
    "reg_train = reg.predict(inputs_train)\n",
    "reg_test = reg.predict(inputs_test)\n"
   ]
  },
  {
   "cell_type": "code",
   "execution_count": 12,
   "metadata": {},
   "outputs": [],
   "source": [
    "df = pd.DataFrame(reg_test)\n",
    "merge3 = [test_index, df]\n",
    "MLR_test_result = pd.concat(merge3, axis=1)\n",
    "MLR_test_result.to_csv(\"C:\\\\Users\\\\johnkwon\\\\Desktop\\\\[Ultima]_Solubility\\\\Data\\\\Ecoli_data\\\\MLR_result.csv\")"
   ]
  },
  {
   "cell_type": "code",
   "execution_count": 17,
   "metadata": {},
   "outputs": [
    {
     "data": {
      "text/plain": [
       "{'r2': 0.3957368572325455,\n",
       " 'rmse': 0.2539068617055099,\n",
       " 'binary_acc': 0.7610738255033557,\n",
       " 'precision': 0.7459807073954984,\n",
       " 'recall': 0.7009063444108762,\n",
       " 'f1': 0.7227414330218068,\n",
       " 'auc': 0.8325415590291461,\n",
       " 'mcc': 0.513962858547476,\n",
       " 'sensitivity': 0.7009063444108762,\n",
       " 'specificity': 0.8091787439613527}"
      ]
     },
     "execution_count": 17,
     "metadata": {},
     "output_type": "execute_result"
    }
   ],
   "source": [
    "#KNN\n",
    "from sklearn.neighbors import KNeighborsRegressor\n",
    "\n",
    "knn_reg = KNeighborsRegressor(n_neighbors=16)\n",
    "knn_reg.fit(inputs_train, np.ravel(target_train))\n",
    "knn_reg_train= knn_reg.predict(inputs_train)\n",
    "knn_reg_test= knn_reg.predict(inputs_test)\n",
    "\n",
    "filename = 'C:\\\\Users\\\\johnkwon\\\\Desktop\\\\[Ultima]_Solubility\\\\Models\\\\KNN.sav'\n",
    "joblib.dump(knn_reg, filename)\n",
    "\n",
    "#analysis(target_train, knn_reg_train)\n",
    "analysis(target_test, knn_reg_test)"
   ]
  },
  {
   "cell_type": "code",
   "execution_count": 18,
   "metadata": {},
   "outputs": [
    {
     "data": {
      "text/plain": [
       "{'r2': -0.1554544570808607,\n",
       " 'rmse': 0.3511056362196923,\n",
       " 'binary_acc': 0.676510067114094,\n",
       " 'precision': 0.6229508196721312,\n",
       " 'recall': 0.6888217522658611,\n",
       " 'f1': 0.654232424677188,\n",
       " 'auc': 0.7200840667279654,\n",
       " 'mcc': 0.3533291565310353,\n",
       " 'sensitivity': 0.6888217522658611,\n",
       " 'specificity': 0.6666666666666666}"
      ]
     },
     "execution_count": 18,
     "metadata": {},
     "output_type": "execute_result"
    }
   ],
   "source": [
    "#Decision tree regressor #bad result\n",
    "from sklearn.tree import DecisionTreeRegressor\n",
    "\n",
    "DT_reg = DecisionTreeRegressor(random_state=150)\n",
    "DT_reg.fit(inputs_train, np.ravel(target_train))\n",
    "DT_reg_train= DT_reg.predict(inputs_train)\n",
    "DT_reg_test= DT_reg.predict(inputs_test)\n",
    "\n",
    "\n",
    "\n",
    "#filename = 'C:\\\\Users\\\\johnkwon\\\\Desktop\\\\[Ultima]_Solubility\\\\Models\\\\KNN.sav'\n",
    "#joblib.dump(knn_reg, filename)\n",
    "\n",
    "\n",
    "#analysis(target_train, DT_reg_train)\n",
    "analysis(target_test, DT_reg_test)"
   ]
  },
  {
   "cell_type": "code",
   "execution_count": 19,
   "metadata": {},
   "outputs": [
    {
     "data": {
      "text/plain": [
       "{'r2': 0.3563360691664824,\n",
       " 'rmse': 0.2620541076818852,\n",
       " 'binary_acc': 0.7355704697986577,\n",
       " 'precision': 0.6801075268817204,\n",
       " 'recall': 0.7643504531722054,\n",
       " 'f1': 0.7197724039829303,\n",
       " 'auc': 0.8236058204533182,\n",
       " 'mcc': 0.4739423036730738,\n",
       " 'sensitivity': 0.7643504531722054,\n",
       " 'specificity': 0.7125603864734299}"
      ]
     },
     "execution_count": 19,
     "metadata": {},
     "output_type": "execute_result"
    }
   ],
   "source": [
    "#SGD regressor\n",
    "from sklearn.linear_model import SGDRegressor\n",
    "from sklearn.pipeline import make_pipeline\n",
    "\n",
    "SGD_reg = make_pipeline(StandardScaler(), SGDRegressor(max_iter=1000, tol=1e-1))\n",
    "SGD_reg.fit(inputs_train, np.ravel(target_train))\n",
    "SGD_reg_train= SGD_reg.predict(inputs_train)\n",
    "SGD_reg_test= SGD_reg.predict(inputs_test)\n",
    "\n",
    "\n",
    "\n",
    "\n",
    "filename = 'C:\\\\Users\\\\johnkwon\\\\Desktop\\\\[Ultima]_Solubility\\\\Models\\\\SGD.sav'\n",
    "joblib.dump(SGD_reg, filename)\n",
    "\n",
    "\n",
    "#analysis(target_train, SGD_reg_train)\n",
    "analysis(target_test, SGD_reg_test)"
   ]
  },
  {
   "cell_type": "code",
   "execution_count": 20,
   "metadata": {},
   "outputs": [
    {
     "name": "stderr",
     "output_type": "stream",
     "text": [
      "C:\\Users\\johnkwon\\anaconda3\\lib\\site-packages\\sklearn\\metrics\\_classification.py:1318: UndefinedMetricWarning: Precision is ill-defined and being set to 0.0 due to no predicted samples. Use `zero_division` parameter to control this behavior.\n",
      "  _warn_prf(average, modifier, msg_start, len(result))\n"
     ]
    },
    {
     "data": {
      "text/plain": [
       "{'r2': -3.330148038882541e-06,\n",
       " 'rmse': 0.3266345406429276,\n",
       " 'binary_acc': 0.5557046979865772,\n",
       " 'precision': 0.0,\n",
       " 'recall': 0.0,\n",
       " 'f1': 0.0,\n",
       " 'auc': 0.5,\n",
       " 'mcc': 0.0,\n",
       " 'sensitivity': 0.0,\n",
       " 'specificity': 1.0}"
      ]
     },
     "execution_count": 20,
     "metadata": {},
     "output_type": "execute_result"
    }
   ],
   "source": [
    "#Lasso regressor bad result\n",
    "from sklearn import linear_model\n",
    "\n",
    "\n",
    "LS_reg = linear_model.Lasso(alpha=1)\n",
    "LS_reg.fit(inputs_train, np.ravel(target_train))\n",
    "LS_reg_train= LS_reg.predict(inputs_train)\n",
    "LS_reg_test= LS_reg.predict(inputs_test)\n",
    "\n",
    "\n",
    "\n",
    "\n",
    "#filename = 'C:\\\\Users\\\\johnkwon\\\\Desktop\\\\[Ultima]_Solubility\\\\Models\\\\SGD.sav'\n",
    "#joblib.dump(SGD_reg, filename)\n",
    "\n",
    "\n",
    "#analysis(target_train, SGD_reg_train)\n",
    "analysis(target_test, LS_reg_test)"
   ]
  },
  {
   "cell_type": "code",
   "execution_count": 21,
   "metadata": {},
   "outputs": [
    {
     "data": {
      "text/plain": [
       "{'r2': 0.3649552589669701,\n",
       " 'rmse': 0.26029363417896845,\n",
       " 'binary_acc': 0.7355704697986577,\n",
       " 'precision': 0.6781914893617021,\n",
       " 'recall': 0.770392749244713,\n",
       " 'f1': 0.7213578500707214,\n",
       " 'auc': 0.8278237517696339,\n",
       " 'mcc': 0.4751666889407393,\n",
       " 'sensitivity': 0.770392749244713,\n",
       " 'specificity': 0.7077294685990339}"
      ]
     },
     "execution_count": 21,
     "metadata": {},
     "output_type": "execute_result"
    }
   ],
   "source": [
    "#PLSRegression\n",
    "\n",
    "from sklearn.cross_decomposition import PLSRegression\n",
    "pls_reg = PLSRegression(n_components=20)\n",
    "\n",
    "\n",
    "pls_reg.fit(inputs_train, np.ravel(target_train))\n",
    "pls_reg_train= pls_reg.predict(inputs_train)\n",
    "pls_reg_test= pls_reg.predict(inputs_test)\n",
    "\n",
    "filename = 'C:\\\\Users\\\\johnkwon\\\\Desktop\\\\[Ultima]_Solubility\\\\Models\\\\PLS.sav'\n",
    "joblib.dump(pls_reg, filename)\n",
    "\n",
    "#analysis(target_train, pls_reg_train)\n",
    "analysis(target_test, pls_reg_test)"
   ]
  },
  {
   "cell_type": "code",
   "execution_count": 28,
   "metadata": {},
   "outputs": [
    {
     "name": "stdout",
     "output_type": "stream",
     "text": [
      "Epoch 1/21\n",
      "70/70 [==============================] - 1s 1ms/step - loss: 0.0709 - mae: 0.2219 - mse: 0.0709\n",
      "Epoch 2/21\n",
      "70/70 [==============================] - 0s 990us/step - loss: 0.0602 - mae: 0.2003 - mse: 0.0602\n",
      "Epoch 3/21\n",
      "70/70 [==============================] - 0s 1ms/step - loss: 0.0584 - mae: 0.1961 - mse: 0.0584\n",
      "Epoch 4/21\n",
      "70/70 [==============================] - 0s 1ms/step - loss: 0.0572 - mae: 0.1932 - mse: 0.0572\n",
      "Epoch 5/21\n",
      "70/70 [==============================] - 0s 1ms/step - loss: 0.0563 - mae: 0.1899 - mse: 0.0563\n",
      "Epoch 6/21\n",
      "70/70 [==============================] - 0s 1ms/step - loss: 0.0559 - mae: 0.1909 - mse: 0.0559\n",
      "Epoch 7/21\n",
      "70/70 [==============================] - 0s 1ms/step - loss: 0.0558 - mae: 0.1904 - mse: 0.0558\n",
      "Epoch 8/21\n",
      "70/70 [==============================] - 0s 1ms/step - loss: 0.0548 - mae: 0.1884 - mse: 0.0548\n",
      "Epoch 9/21\n",
      "70/70 [==============================] - 0s 1ms/step - loss: 0.0536 - mae: 0.1850 - mse: 0.0536\n",
      "Epoch 10/21\n",
      "70/70 [==============================] - 0s 1ms/step - loss: 0.0536 - mae: 0.1866 - mse: 0.0536\n",
      "Epoch 11/21\n",
      "70/70 [==============================] - 0s 2ms/step - loss: 0.0529 - mae: 0.1843 - mse: 0.0529\n",
      "Epoch 12/21\n",
      "70/70 [==============================] - 0s 1ms/step - loss: 0.0524 - mae: 0.1823 - mse: 0.0524\n",
      "Epoch 13/21\n",
      "70/70 [==============================] - 0s 1ms/step - loss: 0.0530 - mae: 0.1841 - mse: 0.0530\n",
      "Epoch 14/21\n",
      "70/70 [==============================] - 0s 986us/step - loss: 0.0525 - mae: 0.1827 - mse: 0.0525\n",
      "Epoch 15/21\n",
      "70/70 [==============================] - 0s 1ms/step - loss: 0.0520 - mae: 0.1830 - mse: 0.0520\n",
      "Epoch 16/21\n",
      "70/70 [==============================] - 0s 1ms/step - loss: 0.0524 - mae: 0.1831 - mse: 0.0524\n",
      "Epoch 17/21\n",
      "70/70 [==============================] - 0s 1ms/step - loss: 0.0514 - mae: 0.1805 - mse: 0.0514\n",
      "Epoch 18/21\n",
      "70/70 [==============================] - 0s 1ms/step - loss: 0.0519 - mae: 0.1820 - mse: 0.0519\n",
      "Epoch 19/21\n",
      "70/70 [==============================] - 0s 1ms/step - loss: 0.0518 - mae: 0.1821 - mse: 0.0518\n",
      "Epoch 20/21\n",
      "70/70 [==============================] - 0s 1ms/step - loss: 0.0513 - mae: 0.1804 - mse: 0.0513\n",
      "Epoch 21/21\n",
      "70/70 [==============================] - 0s 2ms/step - loss: 0.0508 - mae: 0.1799 - mse: 0.0508\n",
      "70/70 [==============================] - 0s 570us/step\n",
      "24/24 [==============================] - 0s 708us/step\n"
     ]
    },
    {
     "data": {
      "image/png": "[encoded data removed]",
      "text/plain": [
       "<Figure size 640x480 with 1 Axes>"
      ]
     },
     "metadata": {},
     "output_type": "display_data"
    },
    {
     "data": {
      "text/plain": [
       "{'r2': 0.45565317612952205,\n",
       " 'rmse': 0.15607197084837598,\n",
       " 'binary_acc': 0.7788203753351206,\n",
       " 'precision': 0.7406340057636888,\n",
       " 'recall': 0.7740963855421686,\n",
       " 'f1': 0.7569955817378498,\n",
       " 'auc': 0.8547086898317909,\n",
       " 'mcc': 0.5546809011128739,\n",
       " 'sensitivity': 0.7740963855421686,\n",
       " 'specificity': 0.782608695652174}"
      ]
     },
     "execution_count": 28,
     "metadata": {},
     "output_type": "execute_result"
    }
   ],
   "source": [
    "#MLP model\n",
    "model=Sequential()\n",
    "model.add(Dense(128,input_dim=21,activation='LeakyReLU'))\n",
    "model.add(Dropout(0.2))\n",
    "BatchNormalization()\n",
    "model.add(Dense(64,activation='LeakyReLU'))\n",
    "BatchNormalization(),\n",
    "model.add(Dense(32,activation='LeakyReLU'))\n",
    "BatchNormalization(),\n",
    "#model.add(Dense(1,activation='LeakyReLU'))\n",
    "model.add(Dense(1,activation='sigmoid'))\n",
    "#model.add(Dense(1,activation='ReLU'))\n",
    "model.compile(loss='mse', optimizer='Adamax', metrics=['mae','mse'])    \n",
    "model.fit(inputs_train, target_train, epochs = 21)\n",
    "    \n",
    "    \n",
    "train_predictions=model.predict(inputs_train).flatten()\n",
    "test_predictions = model.predict(inputs_test).flatten()\n",
    "train_labels=target_train\n",
    "test_labels=target_test\n",
    "\n",
    "plt.scatter(train_labels,train_predictions,color='red')\n",
    "plt.xlim([0,plt.xlim()[1]])\n",
    "plt.ylim([0,plt.ylim()[1]])\n",
    "plt.scatter(test_labels, test_predictions,color='blue')\n",
    "plt.xlabel('Experimentai solubility')\n",
    "plt.ylabel('Predicted solubililty')\n",
    "plt.axis('equal')\n",
    "plt.axis('square')\n",
    "    \n",
    "plt.xlim([0,plt.xlim()[1]])\n",
    "plt.ylim([0,plt.ylim()[1]])\n",
    "    #_ = plt.plot([-100, 100], [-100, 100])\n",
    "plt.show()\n",
    "\n",
    "    \n",
    "analysis(train_labels, train_predictions)\n",
    "analysis(test_labels, test_predictions)\n"
   ]
  },
  {
   "cell_type": "code",
   "execution_count": 29,
   "metadata": {},
   "outputs": [
    {
     "data": {
      "text/plain": [
       "{'r2': 0.5228940406084315,\n",
       " 'rmse': 0.15151638615907273,\n",
       " 'binary_acc': 0.7921323200715243,\n",
       " 'precision': 0.7721393034825871,\n",
       " 'recall': 0.766798418972332,\n",
       " 'f1': 0.7694595934556271,\n",
       " 'auc': 0.8718173751714124,\n",
       " 'mcc': 0.5802201406330789,\n",
       " 'sensitivity': 0.766798418972332,\n",
       " 'specificity': 0.8130612244897959}"
      ]
     },
     "execution_count": 29,
     "metadata": {},
     "output_type": "execute_result"
    }
   ],
   "source": [
    "analysis(train_labels, train_predictions)"
   ]
  },
  {
   "cell_type": "code",
   "execution_count": 25,
   "metadata": {},
   "outputs": [],
   "source": [
    "model.save('C:\\\\Users\\\\johnkwon\\\\Desktop\\\\[Ultima]_Solubility\\\\Models\\\\MPL.h5')"
   ]
  },
  {
   "cell_type": "code",
   "execution_count": 8,
   "metadata": {},
   "outputs": [],
   "source": [
    "model=load_model('C:\\\\Users\\\\johnkwon\\\\Desktop\\\\[Ultima]_Solubility\\\\Models\\\\MPL.h5')"
   ]
  },
  {
   "cell_type": "code",
   "execution_count": 11,
   "metadata": {},
   "outputs": [
    {
     "name": "stdout",
     "output_type": "stream",
     "text": [
      "70/70 [==============================] - 0s 615us/step\n",
      "24/24 [==============================] - 0s 738us/step\n"
     ]
    }
   ],
   "source": [
    "MLP_train_result = model.predict(inputs_train)\n",
    "MLP_test_result= model.predict(inputs_test)\n",
    "\n",
    "\n",
    "df_MLP_train =  pd.DataFrame(MLP_train_result)\n",
    "df_MLP_test = pd.DataFrame(MLP_test_result)"
   ]
  },
  {
   "cell_type": "code",
   "execution_count": 31,
   "metadata": {},
   "outputs": [],
   "source": [
    "merge1 = [train_index, df_MLP_train]\n",
    "MLP_train_result = pd.concat(merge1, axis=1)\n",
    "\n",
    "merge2 = [test_index, df_MLP_test]\n",
    "MLP_test_result = pd.concat(merge2, axis=1)"
   ]
  },
  {
   "cell_type": "code",
   "execution_count": 33,
   "metadata": {},
   "outputs": [],
   "source": [
    "MLP_train_result.to_csv(\"C:\\\\Users\\\\johnkwon\\\\Desktop\\\\[Ultima]_Solubility\\\\Data\\\\Ecoli_data\\\\Training\\\\Stacking\\\\MLP_training.csv\")\n",
    "MLP_test_result.to_csv(\"C:\\\\Users\\\\johnkwon\\\\Desktop\\\\[Ultima]_Solubility\\\\Data\\\\Ecoli_data\\\\Testing\\\\Stacking\\\\MLP_testing.csv\")"
   ]
  }
 ],
 "metadata": {
  "kernelspec": {
   "display_name": "Python 3 (ipykernel)",
   "language": "python",
   "name": "python3"
  },
  "language_info": {
   "codemirror_mode": {
    "name": "ipython",
    "version": 3
   },
   "file_extension": ".py",
   "mimetype": "text/x-python",
   "name": "python",
   "nbconvert_exporter": "python",
   "pygments_lexer": "ipython3",
   "version": "3.9.13"
  }
 },
 "nbformat": 4,
 "nbformat_minor": 4
}
