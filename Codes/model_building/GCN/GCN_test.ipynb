{
 "cells": [
  {
   "cell_type": "code",
   "execution_count": 1,
   "id": "d528841c",
   "metadata": {},
   "outputs": [],
   "source": [
    "import pandas as pd\n",
    "import numpy as np\n",
    "import os\n",
    "import math\n",
    "import torch\n",
    "import numpy as np\n",
    "import pandas as pd\n",
    "import torch.nn as nn\n",
    "from tqdm import tqdm\n",
    "from torch.utils.data import Dataset, DataLoader\n",
    "from torch.nn.parameter import Parameter\n",
    "from torch.autograd import Variable\n",
    "from sklearn import metrics\n",
    "from sklearn.model_selection import KFold, train_test_split\n",
    "from scipy.stats import pearsonr\n",
    "import torch.nn as nn\n",
    "import torch.nn.functional as F"
   ]
  },
  {
   "cell_type": "code",
   "execution_count": 2,
   "id": "c3c65fbb",
   "metadata": {},
   "outputs": [],
   "source": [
    "# Seed\n",
    "SEED = 2333\n",
    "np.random.seed(SEED)\n",
    "torch.manual_seed(SEED)\n",
    "if torch.cuda.is_available():\n",
    "    torch.cuda.set_device(1)\n",
    "    torch.cuda.manual_seed(SEED)"
   ]
  },
  {
   "cell_type": "code",
   "execution_count": 3,
   "id": "ee2da88d",
   "metadata": {},
   "outputs": [],
   "source": [
    "# Model parameters\n",
    "NUMBER_EPOCHS = 10\n",
    "LEARNING_RATE = 1E-4\n",
    "WEIGHT_DECAY = 1E-4\n",
    "BATCH_SIZE = 1\n",
    "NUM_CLASSES = 1\n",
    "\n",
    "# GCN parameters\n",
    "GCN_FEATURE_DIM = 30\n",
    "GCN_HIDDEN_DIM = 256\n",
    "GCN_OUTPUT_DIM = 64   #이거 8이나 4로 바꿔보자\n",
    "\n",
    "# Attention parameters\n",
    "DENSE_DIM = 16\n",
    "ATTENTION_HEADS = 4"
   ]
  },
  {
   "cell_type": "code",
   "execution_count": 4,
   "id": "80726c08",
   "metadata": {},
   "outputs": [],
   "source": [
    "def normalize(mx):\n",
    "    rowsum = np.array(mx.sum(1))\n",
    "    r_inv = (rowsum ** -0.5).flatten()\n",
    "    r_inv[np.isinf(r_inv)] = 0\n",
    "    r_mat_inv = np.diag(r_inv)\n",
    "    result = r_mat_inv @ mx @ r_mat_inv\n",
    "    return result"
   ]
  },
  {
   "cell_type": "code",
   "execution_count": 48,
   "id": "edb25172",
   "metadata": {},
   "outputs": [],
   "source": [
    "\n",
    "def load_features(label_number, mean, std):\n",
    "\n",
    "    # len(sequence) * 23\n",
    "    blosum_matrix = np.load('C:\\\\Users\\\\johnkwon\\\\Desktop\\\\[Ultima]_Solubility\\\\Data\\\\Ecoli_data\\\\Testing\\\\GCN\\\\Blosum features\\\\' + str(label_number) + '.npy')\n",
    "    \n",
    "    # len(sequence) * 30\n",
    "    a7_matrix = np.load('C:\\\\Users\\\\johnkwon\\\\Desktop\\\\[Ultima]_Solubility\\\\Data\\\\Ecoli_data\\\\Testing\\\\GCN\\\\7A features\\\\' + str(label_number) + '.npy')\n",
    "       \n",
    "    # len(sequence) * 33\n",
    "    coord_matrix = np.load('C:\\\\Users\\\\johnkwon\\\\Desktop\\\\[Ultima]_Solubility\\\\Data\\\\Ecoli_data\\\\Testing\\\\GCN\\\\Acarbon_coordinates_centered\\\\' + str(label_number) + '.npy')\n",
    " \n",
    "\n",
    "    #print(label_number)\n",
    "    feature_matrix = np.concatenate([blosum_matrix,a7_matrix,coord_matrix], axis=1)\n",
    "    feature_matrix = (feature_matrix - mean) / std\n",
    "    part1 = feature_matrix[:,0:20]\n",
    "    part2 = feature_matrix[:,23:]\n",
    "    # len(sequence) * 30\n",
    "    feature_matrix = np.concatenate([part1,part2],axis=1)\n",
    "    return feature_matrix"
   ]
  },
  {
   "cell_type": "code",
   "execution_count": 6,
   "id": "2355c718",
   "metadata": {},
   "outputs": [],
   "source": [
    "def load_values():\n",
    "    mean = np.load(\"C:\\\\Users\\\\johnkwon\\\\Desktop\\\\[Ultima]_Solubility\\\\Data\\\\Ecoli_data\\\\Scaling\\\\GCN\\\\mean_matrix.npy\")\n",
    "    std = np.load(\"C:\\\\Users\\\\johnkwon\\\\Desktop\\\\[Ultima]_Solubility\\\\Data\\\\Ecoli_data\\\\Scaling\\\\GCN\\\\std_matrix.npy\")\n",
    "    return mean, std"
   ]
  },
  {
   "cell_type": "code",
   "execution_count": 46,
   "id": "aeb9ab94",
   "metadata": {},
   "outputs": [],
   "source": [
    "def load_graph(label_number): ###################################################################################1\n",
    "    matrix = np.load(\"C:\\\\Users\\\\johnkwon\\\\Desktop\\\\[Ultima]_Solubility\\\\Data\\\\Ecoli_data\\\\Testing\\\\GCN\\\\Contact_maps_12A\\\\\" + str(label_number) + '.npy').astype(np.float32)\n",
    "    edge_matrix = normalize(matrix)\n",
    "    return edge_matrix"
   ]
  },
  {
   "cell_type": "code",
   "execution_count": 8,
   "id": "8b6ce1d9",
   "metadata": {},
   "outputs": [],
   "source": [
    "class ProDataset(Dataset):\n",
    "\n",
    "    def __init__(self, dataframe):\n",
    "        self.label = dataframe['Number'].values\n",
    "        self.solubility = dataframe['solubility'].values\n",
    "        self.mean, self.std = load_values()\n",
    "\n",
    "    def __getitem__(self, index):\n",
    "        sequence_label = self.label[index]\n",
    "        solubility = self.solubility[index]\n",
    "        # L * 30\n",
    "        sequence_feature = load_features(sequence_label, self.mean, self.std)\n",
    "        # L * L\n",
    "        sequence_graph = load_graph(sequence_label)\n",
    "        \n",
    "        return sequence_label, solubility, sequence_feature, sequence_graph\n",
    "\n",
    "    def __len__(self):\n",
    "        return len(self.solubility)"
   ]
  },
  {
   "cell_type": "code",
   "execution_count": 9,
   "id": "4065a308",
   "metadata": {},
   "outputs": [],
   "source": [
    "class GraphConvolution(nn.Module):\n",
    "\n",
    "    def __init__(self, in_features, out_features, bias=True):\n",
    "        super(GraphConvolution, self).__init__()\n",
    "        self.in_features = in_features\n",
    "        self.out_features = out_features\n",
    "        self.weight = Parameter(torch.FloatTensor(in_features, out_features))\n",
    "        if bias:\n",
    "            self.bias = Parameter(torch.FloatTensor(out_features))\n",
    "        else:\n",
    "            self.register_parameter('bias', None)\n",
    "        self.reset_parameters()\n",
    "\n",
    "    def reset_parameters(self):\n",
    "        stdv = 1. / math.sqrt(self.weight.size(1))\n",
    "        self.weight.data.uniform_(-stdv, stdv)\n",
    "        if self.bias is not None:\n",
    "            self.bias.data.uniform_(-stdv, stdv)\n",
    "\n",
    "    def forward(self, input, adj):\n",
    "        support = input @ self.weight    # X * W\n",
    "        output = adj @ support           # A * X * W\n",
    "        if self.bias is not None:        # A * X * W + b\n",
    "            return output + self.bias\n",
    "        else:\n",
    "            return output\n",
    "\n",
    "    def __repr__(self):\n",
    "        return self.__class__.__name__ + ' (' + str(self.in_features) + ' -> ' + str(self.out_features) + ')'\n"
   ]
  },
  {
   "cell_type": "code",
   "execution_count": 10,
   "id": "8b16b223",
   "metadata": {},
   "outputs": [],
   "source": [
    "class GCN(nn.Module):\n",
    "    def __init__(self):\n",
    "        super(GCN, self).__init__()\n",
    "        self.gc1 = GraphConvolution(GCN_FEATURE_DIM, GCN_HIDDEN_DIM)\n",
    "        self.ln1 = nn.LayerNorm(GCN_HIDDEN_DIM)\n",
    "        self.gc2 = GraphConvolution(GCN_HIDDEN_DIM, GCN_OUTPUT_DIM)\n",
    "        self.ln2 = nn.LayerNorm(GCN_OUTPUT_DIM)\n",
    "        self.relu1 = nn.LeakyReLU(0.2,inplace=True)\n",
    "        self.relu2 = nn.LeakyReLU(0.2,inplace=True)\n",
    "\n",
    "    def forward(self, x, adj):  \t\t\t# x.shape = (seq_len, GCN_FEATURE_DIM); adj.shape = (seq_len, seq_len)\n",
    "        x = self.gc1(x, adj)  \t\t\t\t# x.shape = (seq_len, GCN_HIDDEN_DIM)\n",
    "        x = self.relu1(self.ln1(x))\n",
    "        x = self.gc2(x, adj)\n",
    "        output = self.relu2(self.ln2(x))\t# output.shape = (seq_len, GCN_OUTPUT_DIM)\n",
    "        return output"
   ]
  },
  {
   "cell_type": "code",
   "execution_count": 11,
   "id": "884b78d2",
   "metadata": {},
   "outputs": [],
   "source": [
    "class Attention(nn.Module):\n",
    "    def __init__(self, input_dim, dense_dim, n_heads):\n",
    "        super(Attention, self).__init__()\n",
    "        self.input_dim = input_dim\n",
    "        self.dense_dim = dense_dim\n",
    "        self.n_heads = n_heads\n",
    "        self.fc1 = nn.Linear(self.input_dim, self.dense_dim)\n",
    "        self.fc2 = nn.Linear(self.dense_dim, self.n_heads)\n",
    "\n",
    "    def softmax(self, input, axis=1):\n",
    "        input_size = input.size()\n",
    "        trans_input = input.transpose(axis, len(input_size) - 1)\n",
    "        trans_size = trans_input.size()\n",
    "        input_2d = trans_input.contiguous().view(-1, trans_size[-1])\n",
    "        soft_max_2d = torch.softmax(input_2d, dim=1)\n",
    "        soft_max_nd = soft_max_2d.view(*trans_size)\n",
    "        return soft_max_nd.transpose(axis, len(input_size) - 1)\n",
    "\n",
    "    def forward(self, input):  \t\t\t\t# input.shape = (1, seq_len, input_dim)\n",
    "        x = torch.tanh(self.fc1(input))  \t# x.shape = (1, seq_len, dense_dim)\n",
    "        x = self.fc2(x)  \t\t\t\t\t# x.shape = (1, seq_len, attention_hops)\n",
    "        x = self.softmax(x, 1)\n",
    "        attention = x.transpose(1, 2)  \t\t# attention.shape = (1, attention_hops, seq_len)\n",
    "        return attention"
   ]
  },
  {
   "cell_type": "code",
   "execution_count": 12,
   "id": "db211fa9",
   "metadata": {},
   "outputs": [],
   "source": [
    "class GCN_model(nn.Module):\n",
    "    def __init__(self):\n",
    "        super(GCN_model, self).__init__()\n",
    "\n",
    "        self.gcn = GCN()\n",
    "        self.attention = Attention(GCN_OUTPUT_DIM, DENSE_DIM, ATTENTION_HEADS)\n",
    "        self.fc_final = nn.Linear(GCN_OUTPUT_DIM, NUM_CLASSES)\n",
    "\n",
    "        self.criterion = nn.MSELoss()\n",
    "        self.optimizer = torch.optim.Adam(self.parameters(), lr=LEARNING_RATE, weight_decay=WEIGHT_DECAY)\n",
    "\n",
    "    def forward(self, x, adj):  \t\t\t\t\t\t\t\t\t\t\t# x.shape = (seq_len, FEATURE_DIM); adj.shape = (seq_len, seq_len)\n",
    "        x = x.float()\n",
    "        x = self.gcn(x, adj)  \t\t\t\t\t\t\t\t\t\t\t\t# x.shape = (seq_len, GAT_OUTPUT_DIM)\n",
    "\n",
    "        x = x.unsqueeze(0).float()  \t\t\t\t\t\t\t\t\t\t# x.shape = (1, seq_len, GAT_OUTPUT_DIM)\n",
    "        att = self.attention(x)  \t\t\t\t\t\t\t\t\t\t\t# att.shape = (1, ATTENTION_HEADS, seq_len)\n",
    "        node_feature_embedding = att @ x \t\t\t\t\t\t\t\t\t# output.shape = (1, ATTENTION_HEADS, GAT_OUTPUT_DIM)\n",
    "        node_feature_embedding_avg = torch.sum(node_feature_embedding,\n",
    "                                               1) / self.attention.n_heads  # node_feature_embedding_avg.shape = (1, GAT_OUTPUT_DIM)\n",
    "        output = torch.sigmoid(self.fc_final(node_feature_embedding_avg))  \t# output.shape = (1, NUM_CLASSES)\n",
    "        output2 = self.fc_final(node_feature_embedding_avg)\n",
    "\n",
    "\n",
    "        return output.squeeze(0)"
   ]
  },
  {
   "cell_type": "code",
   "execution_count": 13,
   "id": "aa4f4aea",
   "metadata": {},
   "outputs": [],
   "source": [
    "GCN_model = GCN_model()"
   ]
  },
  {
   "cell_type": "code",
   "execution_count": 32,
   "id": "01de79b3",
   "metadata": {},
   "outputs": [
    {
     "data": {
      "text/plain": [
       "<All keys matched successfully>"
      ]
     },
     "execution_count": 32,
     "metadata": {},
     "output_type": "execute_result"
    }
   ],
   "source": [
    "\n",
    "\n",
    "GCN_model_directory=\"C:\\\\Users\\\\johnkwon\\\\Desktop\\\\[Ultima]_Solubility\\\\Models\\\\GCN\\\\model.pkl\"\n",
    "GCN_model.load_state_dict(torch.load(GCN_model_directory))"
   ]
  },
  {
   "cell_type": "code",
   "execution_count": 50,
   "id": "0e8c4f29",
   "metadata": {},
   "outputs": [],
   "source": [
    "\n",
    "train_dataframe = pd.read_csv(\"C:\\\\Users\\\\johnkwon\\\\Desktop\\\\[Ultima]_Solubility\\\\Data\\\\Ecoli_data\\\\Testing\\\\GCN\\\\solubility_testing.csv\")\n"
   ]
  },
  {
   "cell_type": "code",
   "execution_count": 51,
   "id": "3282e3d5",
   "metadata": {},
   "outputs": [],
   "source": [
    "list_label=[]\n",
    "list_pred=[]\n",
    "list_solubility=[]\n",
    "def test_models(all_dataframe):\n",
    "    print(\"split_seed: \", SEED)\n",
    "    sequence_label = all_dataframe['Number'].values\n",
    "    solubility = all_dataframe['solubility'].values\n",
    "    data_loader1 = DataLoader(dataset=ProDataset(all_dataframe), batch_size=BATCH_SIZE, shuffle=True, num_workers=0)\n",
    "    \n",
    "\n",
    "    for data in tqdm(data_loader1):\n",
    "        with torch.no_grad():\n",
    "            sequence_label, solubility, sequence_features, sequence_graphs = data\n",
    "            sequence_features = torch.squeeze(sequence_features)\n",
    "            sequence_graphs = torch.squeeze(sequence_graphs)\n",
    "            \n",
    "\n",
    "            if torch.cuda.is_available():\n",
    "                features = Variable(sequence_features.cuda())\n",
    "                graphs = Variable(sequence_graphs.cuda())\n",
    "                y_true = Variable(solubility.cuda())\n",
    "               \n",
    "            else:\n",
    "                features = Variable(sequence_features)\n",
    "                graphs = Variable(sequence_graphs)\n",
    "                y_true = Variable(solubility)\n",
    "            \n",
    "\n",
    "                                    \n",
    "            y_pred_GCN = GCN_model(features,graphs)\n",
    "            y_true = y_true.float()\n",
    "\n",
    "            y_pred_GCN = y_pred_GCN.cpu().detach().numpy().tolist()\n",
    "            list_pred.append(y_pred_GCN)\n",
    "            list_label.append(sequence_label)\n",
    "            list_solubility.append(solubility)\n",
    "                    \n",
    "    "
   ]
  },
  {
   "cell_type": "code",
   "execution_count": 52,
   "id": "9637a372",
   "metadata": {},
   "outputs": [
    {
     "name": "stdout",
     "output_type": "stream",
     "text": [
      "split_seed:  2333\n"
     ]
    },
    {
     "name": "stderr",
     "output_type": "stream",
     "text": [
      "  1%|          | 6/745 [00:00<00:15, 49.24it/s]"
     ]
    },
    {
     "name": "stdout",
     "output_type": "stream",
     "text": [
      "1374\n",
      "610\n",
      "430\n",
      "2155\n",
      "1617\n",
      "1597\n",
      "1110\n",
      "1461\n",
      "1822\n",
      "1428\n",
      "2225\n",
      "180\n",
      "2428\n",
      "1252\n",
      "506\n"
     ]
    },
    {
     "name": "stderr",
     "output_type": "stream",
     "text": [
      "  3%|▎         | 24/745 [00:00<00:10, 70.61it/s]"
     ]
    },
    {
     "name": "stdout",
     "output_type": "stream",
     "text": [
      "2604\n",
      "1954\n",
      "2526\n",
      "908\n",
      "2147\n",
      "2778\n",
      "756\n",
      "754\n",
      "103\n",
      "2722\n",
      "1101\n",
      "550\n",
      "2379\n",
      "494\n",
      "1829\n",
      "2002\n"
     ]
    },
    {
     "name": "stderr",
     "output_type": "stream",
     "text": [
      "  6%|▌         | 43/745 [00:00<00:09, 77.87it/s]"
     ]
    },
    {
     "name": "stdout",
     "output_type": "stream",
     "text": [
      "373\n",
      "965\n",
      "766\n",
      "1138\n",
      "2457\n",
      "2739\n",
      "1225\n",
      "715\n",
      "422\n",
      "2997\n",
      "2423\n",
      "2895\n",
      "1301\n",
      "1587\n",
      "1012\n"
     ]
    },
    {
     "name": "stderr",
     "output_type": "stream",
     "text": [
      "  7%|▋         | 51/745 [00:00<00:09, 70.78it/s]"
     ]
    },
    {
     "name": "stdout",
     "output_type": "stream",
     "text": [
      "2474\n",
      "387\n",
      "1925\n",
      "52\n",
      "1268\n",
      "2452\n",
      "1256\n"
     ]
    },
    {
     "name": "stderr",
     "output_type": "stream",
     "text": [
      "  9%|▉         | 69/745 [00:01<00:10, 64.13it/s]"
     ]
    },
    {
     "name": "stdout",
     "output_type": "stream",
     "text": [
      "991\n",
      "686\n",
      "870\n",
      "808\n",
      "437\n",
      "2421\n",
      "2898\n",
      "121\n",
      "2569\n",
      "2263\n",
      "606\n",
      "2548\n",
      "2710\n",
      "1928\n",
      "189\n",
      "1680\n",
      "89\n",
      "1980\n"
     ]
    },
    {
     "name": "stderr",
     "output_type": "stream",
     "text": [
      " 10%|█         | 77/745 [00:01<00:13, 50.22it/s]"
     ]
    },
    {
     "name": "stdout",
     "output_type": "stream",
     "text": [
      "1477\n",
      "2363\n",
      "1717\n",
      "1192\n",
      "2714\n",
      "1249\n",
      "618\n",
      "2118\n",
      "1995\n",
      "1317\n",
      "1396\n"
     ]
    },
    {
     "name": "stderr",
     "output_type": "stream",
     "text": [
      " 13%|█▎        | 98/745 [00:01<00:09, 68.00it/s]"
     ]
    },
    {
     "name": "stdout",
     "output_type": "stream",
     "text": [
      "2123\n",
      "2376\n",
      "1998\n",
      "922\n",
      "1286\n",
      "1798\n",
      "177\n",
      "1476\n",
      "2500\n",
      "217\n",
      "519\n",
      "2813\n",
      "849\n",
      "2671\n",
      "1709\n",
      "1824\n"
     ]
    },
    {
     "name": "stderr",
     "output_type": "stream",
     "text": [
      " 15%|█▍        | 111/745 [00:01<00:08, 77.64it/s]"
     ]
    },
    {
     "name": "stdout",
     "output_type": "stream",
     "text": [
      "1670\n",
      "1865\n",
      "1579\n",
      "1993\n",
      "409\n",
      "169\n",
      "1421\n",
      "2025\n",
      "2182\n",
      "7\n",
      "2641\n",
      "911\n",
      "1781\n",
      "1966\n",
      "2318\n",
      "237\n",
      "688\n",
      "158\n",
      "2442\n",
      "2636\n"
     ]
    },
    {
     "name": "stderr",
     "output_type": "stream",
     "text": [
      " 17%|█▋        | 129/745 [00:01<00:07, 78.75it/s]"
     ]
    },
    {
     "name": "stdout",
     "output_type": "stream",
     "text": [
      "2537\n",
      "1886\n",
      "427\n",
      "262\n",
      "1434\n",
      "2794\n",
      "2812\n",
      "182\n",
      "321\n",
      "1624\n",
      "1400\n",
      "29\n",
      "1483\n",
      "992\n",
      "804\n",
      "821\n",
      "1732\n",
      "2023\n"
     ]
    },
    {
     "name": "stderr",
     "output_type": "stream",
     "text": [
      " 19%|█▉        | 145/745 [00:02<00:11, 53.07it/s]"
     ]
    },
    {
     "name": "stdout",
     "output_type": "stream",
     "text": [
      "2645\n",
      "245\n",
      "414\n",
      "2487\n",
      "514\n",
      "46\n",
      "739\n",
      "44\n",
      "125\n",
      "2527\n",
      "1077\n",
      "575\n",
      "2773\n",
      "1548\n"
     ]
    },
    {
     "name": "stderr",
     "output_type": "stream",
     "text": [
      " 21%|██▏       | 159/745 [00:02<00:10, 57.82it/s]"
     ]
    },
    {
     "name": "stdout",
     "output_type": "stream",
     "text": [
      "1331\n",
      "374\n",
      "1436\n",
      "1406\n",
      "1672\n",
      "12\n",
      "2755\n",
      "68\n",
      "1127\n",
      "197\n",
      "791\n"
     ]
    },
    {
     "name": "stderr",
     "output_type": "stream",
     "text": [
      " 24%|██▎       | 176/745 [00:02<00:08, 63.68it/s]"
     ]
    },
    {
     "name": "stdout",
     "output_type": "stream",
     "text": [
      "1437\n",
      "2285\n",
      "1757\n",
      "751\n",
      "2810\n",
      "2770\n",
      "1690\n",
      "2620\n",
      "856\n",
      "1758\n",
      "892\n",
      "1468\n",
      "775\n",
      "1775\n",
      "2680\n",
      "2825\n",
      "319\n",
      "1407\n",
      "464\n"
     ]
    },
    {
     "name": "stderr",
     "output_type": "stream",
     "text": [
      " 25%|██▍       | 184/745 [00:02<00:08, 65.23it/s]"
     ]
    },
    {
     "name": "stdout",
     "output_type": "stream",
     "text": [
      "2079\n",
      "2127\n",
      "30\n",
      "2679\n",
      "1590\n",
      "1365\n",
      "2836\n",
      "2489\n",
      "2479\n",
      "1104\n",
      "914\n",
      "1450\n",
      "605\n",
      "1244\n"
     ]
    },
    {
     "name": "stderr",
     "output_type": "stream",
     "text": [
      " 28%|██▊       | 205/745 [00:03<00:06, 77.25it/s]"
     ]
    },
    {
     "name": "stdout",
     "output_type": "stream",
     "text": [
      "2133\n",
      "2638\n",
      "443\n",
      "2629\n",
      "819\n",
      "885\n",
      "982\n",
      "703\n",
      "572\n",
      "1643\n",
      "175\n",
      "1074\n"
     ]
    },
    {
     "name": "stderr",
     "output_type": "stream",
     "text": [
      " 29%|██▊       | 213/745 [00:03<00:08, 62.03it/s]"
     ]
    },
    {
     "name": "stdout",
     "output_type": "stream",
     "text": [
      "1862\n",
      "1592\n",
      "53\n",
      "878\n",
      "2882\n",
      "1492\n",
      "989\n",
      "1852\n",
      "2726\n",
      "782\n",
      "765\n",
      "171\n",
      "1194\n",
      "1088\n"
     ]
    },
    {
     "name": "stderr",
     "output_type": "stream",
     "text": [
      " 30%|███       | 227/745 [00:03<00:08, 61.51it/s]"
     ]
    },
    {
     "name": "stdout",
     "output_type": "stream",
     "text": [
      "372\n",
      "2333\n",
      "2361\n",
      "2727\n",
      "1823\n",
      "302\n",
      "2929\n",
      "2691\n",
      "1174\n",
      "94\n",
      "2432\n",
      "243\n",
      "1835\n",
      "2027\n"
     ]
    },
    {
     "name": "stderr",
     "output_type": "stream",
     "text": [
      " 33%|███▎      | 246/745 [00:03<00:06, 71.97it/s]"
     ]
    },
    {
     "name": "stdout",
     "output_type": "stream",
     "text": [
      "1741\n",
      "135\n",
      "949\n",
      "1338\n",
      "1971\n",
      "364\n",
      "2991\n",
      "257\n",
      "955\n",
      "140\n",
      "444\n",
      "1517\n",
      "2725\n",
      "1288\n",
      "800\n"
     ]
    },
    {
     "name": "stderr",
     "output_type": "stream",
     "text": [
      " 36%|███▌      | 265/745 [00:04<00:06, 71.55it/s]"
     ]
    },
    {
     "name": "stdout",
     "output_type": "stream",
     "text": [
      "2448\n",
      "1466\n",
      "1572\n",
      "1250\n",
      "458\n",
      "360\n",
      "2417\n",
      "2748\n",
      "2231\n",
      "487\n",
      "1562\n",
      "2661\n",
      "2049\n",
      "957\n",
      "2874\n",
      "536\n",
      "2317\n",
      "2744\n"
     ]
    },
    {
     "name": "stderr",
     "output_type": "stream",
     "text": [
      " 37%|███▋      | 274/745 [00:04<00:06, 75.25it/s]"
     ]
    },
    {
     "name": "stdout",
     "output_type": "stream",
     "text": [
      "2456\n",
      "2979\n",
      "1070\n",
      "2718\n",
      "415\n",
      "1240\n",
      "978\n",
      "2329\n",
      "2525\n",
      "1219\n",
      "2951\n",
      "2483\n",
      "769\n",
      "2098\n",
      "488\n"
     ]
    },
    {
     "name": "stderr",
     "output_type": "stream",
     "text": [
      " 39%|███▉      | 290/745 [00:04<00:06, 66.35it/s]"
     ]
    },
    {
     "name": "stdout",
     "output_type": "stream",
     "text": [
      "2095\n",
      "573\n",
      "1490\n",
      "1003\n",
      "263\n",
      "958\n",
      "1091\n",
      "105\n",
      "2775\n",
      "1580\n",
      "1147\n",
      "2901\n"
     ]
    },
    {
     "name": "stderr",
     "output_type": "stream",
     "text": [
      " 41%|████▏     | 308/745 [00:04<00:07, 54.80it/s]"
     ]
    },
    {
     "name": "stdout",
     "output_type": "stream",
     "text": [
      "1366\n",
      "2541\n",
      "2193\n",
      "2683\n",
      "700\n",
      "2397\n",
      "88\n",
      "1115\n",
      "1979\n",
      "253\n",
      "526\n",
      "1964\n",
      "1189\n",
      "2286\n",
      "1243\n",
      "2736\n",
      "2135\n",
      "2924\n",
      "1813\n",
      "1568\n",
      "1011\n"
     ]
    },
    {
     "name": "stderr",
     "output_type": "stream",
     "text": [
      " 42%|████▏     | 316/745 [00:05<00:07, 55.92it/s]"
     ]
    },
    {
     "name": "stdout",
     "output_type": "stream",
     "text": [
      "517\n",
      "353\n",
      "1123\n",
      "1735\n",
      "1425\n",
      "2099\n",
      "371\n"
     ]
    },
    {
     "name": "stderr",
     "output_type": "stream",
     "text": [
      " 44%|████▍     | 331/745 [00:05<00:08, 47.12it/s]"
     ]
    },
    {
     "name": "stdout",
     "output_type": "stream",
     "text": [
      "689\n",
      "1692\n",
      "1166\n",
      "289\n",
      "471\n",
      "918\n",
      "2119\n",
      "589\n",
      "239\n",
      "1513\n",
      "1161\n",
      "746\n",
      "1349\n",
      "2440\n"
     ]
    },
    {
     "name": "stderr",
     "output_type": "stream",
     "text": [
      " 46%|████▌     | 344/745 [00:05<00:10, 36.98it/s]"
     ]
    },
    {
     "name": "stdout",
     "output_type": "stream",
     "text": [
      "1495\n",
      "1061\n",
      "441\n",
      "468\n",
      "2093\n",
      "0\n",
      "2298\n",
      "943\n",
      "758\n",
      "1621\n",
      "1593\n"
     ]
    },
    {
     "name": "stderr",
     "output_type": "stream",
     "text": [
      " 47%|████▋     | 349/745 [00:06<00:10, 38.24it/s]"
     ]
    },
    {
     "name": "stdout",
     "output_type": "stream",
     "text": [
      "2848\n",
      "1712\n"
     ]
    },
    {
     "name": "stderr",
     "output_type": "stream",
     "text": [
      " 48%|████▊     | 354/745 [00:06<00:13, 28.75it/s]"
     ]
    },
    {
     "name": "stdout",
     "output_type": "stream",
     "text": [
      "479\n",
      "1205\n",
      "421\n",
      "620\n",
      "1465\n",
      "45\n",
      "470\n",
      "552\n",
      "1303\n",
      "1246\n",
      "163\n",
      "2418\n",
      "2881\n",
      "1203\n",
      "2134\n",
      "265\n",
      "2851\n",
      "2373\n",
      "2531\n"
     ]
    },
    {
     "name": "stderr",
     "output_type": "stream",
     "text": [
      " 50%|█████     | 375/745 [00:06<00:07, 47.54it/s]"
     ]
    },
    {
     "name": "stdout",
     "output_type": "stream",
     "text": [
      "1285\n",
      "1107\n",
      "1633\n",
      "2705\n",
      "2477\n",
      "1689\n",
      "2031\n",
      "1786\n",
      "1939\n",
      "2692\n"
     ]
    },
    {
     "name": "stderr",
     "output_type": "stream",
     "text": [
      " 53%|█████▎    | 397/745 [00:06<00:04, 70.19it/s]"
     ]
    },
    {
     "name": "stdout",
     "output_type": "stream",
     "text": [
      "651\n",
      "503\n",
      "1278\n",
      "2605\n",
      "2768\n",
      "1532\n",
      "57\n",
      "2008\n",
      "2257\n",
      "1522\n",
      "2909\n",
      "469\n",
      "1146\n",
      "2183\n",
      "839\n",
      "541\n",
      "659\n",
      "1623\n",
      "320\n",
      "1731\n",
      "2234\n",
      "330\n"
     ]
    },
    {
     "name": "stderr",
     "output_type": "stream",
     "text": [
      " 54%|█████▍    | 406/745 [00:07<00:05, 61.49it/s]"
     ]
    },
    {
     "name": "stdout",
     "output_type": "stream",
     "text": [
      "1279\n",
      "1569\n",
      "2958\n",
      "613\n",
      "258\n",
      "2238\n",
      "1803\n",
      "1816\n",
      "2928\n",
      "1459\n",
      "653\n",
      "1933\n",
      "2484\n",
      "1622\n"
     ]
    },
    {
     "name": "stderr",
     "output_type": "stream",
     "text": [
      " 57%|█████▋    | 428/745 [00:07<00:04, 78.31it/s]"
     ]
    },
    {
     "name": "stdout",
     "output_type": "stream",
     "text": [
      "1102\n",
      "1721\n",
      "2596\n",
      "2168\n",
      "2578\n",
      "1266\n",
      "327\n",
      "2707\n",
      "2149\n",
      "2995\n",
      "1900\n",
      "1444\n",
      "337\n",
      "581\n",
      "1540\n",
      "2192\n",
      "705\n",
      "1558\n",
      "2226\n",
      "2838\n"
     ]
    },
    {
     "name": "stderr",
     "output_type": "stream",
     "text": [
      " 60%|█████▉    | 446/745 [00:07<00:03, 78.02it/s]"
     ]
    },
    {
     "name": "stdout",
     "output_type": "stream",
     "text": [
      "1629\n",
      "218\n",
      "2057\n",
      "493\n",
      "81\n",
      "1377\n",
      "797\n",
      "346\n",
      "2642\n",
      "338\n",
      "710\n",
      "2847\n",
      "685\n",
      "1066\n",
      "447\n",
      "850\n",
      "2781\n"
     ]
    },
    {
     "name": "stderr",
     "output_type": "stream",
     "text": [
      " 62%|██████▏   | 465/745 [00:07<00:03, 77.87it/s]"
     ]
    },
    {
     "name": "stdout",
     "output_type": "stream",
     "text": [
      "232\n",
      "1188\n",
      "938\n",
      "1769\n",
      "1833\n",
      "2621\n",
      "1047\n",
      "771\n",
      "2564\n",
      "540\n",
      "209\n",
      "1045\n",
      "1812\n",
      "2176\n",
      "2983\n",
      "2306\n"
     ]
    },
    {
     "name": "stderr",
     "output_type": "stream",
     "text": [
      " 64%|██████▍   | 476/745 [00:07<00:03, 84.12it/s]"
     ]
    },
    {
     "name": "stdout",
     "output_type": "stream",
     "text": [
      "1410\n",
      "2863\n",
      "1241\n",
      "400\n",
      "646\n",
      "1533\n",
      "1751\n",
      "188\n",
      "2249\n",
      "202\n",
      "315\n",
      "1795\n",
      "2146\n",
      "737\n",
      "1210\n"
     ]
    },
    {
     "name": "stderr",
     "output_type": "stream",
     "text": [
      " 66%|██████▌   | 493/745 [00:08<00:03, 69.23it/s]"
     ]
    },
    {
     "name": "stdout",
     "output_type": "stream",
     "text": [
      "1944\n",
      "2581\n",
      "276\n",
      "200\n",
      "2990\n",
      "32\n",
      "2566\n",
      "2648\n",
      "679\n",
      "2209\n",
      "2833\n",
      "394\n",
      "1393\n",
      "1392\n"
     ]
    },
    {
     "name": "stderr",
     "output_type": "stream",
     "text": [
      " 68%|██████▊   | 508/745 [00:08<00:03, 65.36it/s]"
     ]
    },
    {
     "name": "stdout",
     "output_type": "stream",
     "text": [
      "2000\n",
      "940\n",
      "267\n",
      "2367\n",
      "2039\n",
      "1148\n",
      "2276\n",
      "580\n",
      "1447\n",
      "2719\n",
      "2669\n",
      "1636\n"
     ]
    },
    {
     "name": "stderr",
     "output_type": "stream",
     "text": [
      " 72%|███████▏  | 537/745 [00:08<00:02, 98.62it/s]"
     ]
    },
    {
     "name": "stdout",
     "output_type": "stream",
     "text": [
      "1638\n",
      "1068\n",
      "153\n",
      "1251\n",
      "529\n",
      "535\n",
      "2966\n",
      "1231\n",
      "609\n",
      "295\n",
      "1221\n",
      "1355\n",
      "853\n",
      "2454\n",
      "1675\n",
      "2716\n",
      "1358\n",
      "2864\n",
      "900\n",
      "1746\n",
      "2858\n",
      "2439\n",
      "2884\n",
      "829\n",
      "1038\n",
      "1427\n",
      "112\n",
      "2595\n",
      "1987\n"
     ]
    },
    {
     "name": "stderr",
     "output_type": "stream",
     "text": [
      " 74%|███████▎  | 549/745 [00:08<00:01, 104.08it/s]"
     ]
    },
    {
     "name": "stdout",
     "output_type": "stream",
     "text": [
      "820\n",
      "2312\n",
      "2412\n",
      "822\n",
      "2401\n",
      "2675\n",
      "486\n",
      "2969\n",
      "1745\n",
      "297\n",
      "109\n",
      "1848\n",
      "543\n",
      "472\n",
      "1581\n",
      "227\n",
      "97\n",
      "2153\n",
      "1727\n",
      "1118\n",
      "817\n",
      "1601\n"
     ]
    },
    {
     "name": "stderr",
     "output_type": "stream",
     "text": [
      " 75%|███████▌  | 560/745 [00:08<00:01, 95.99it/s] "
     ]
    },
    {
     "name": "stdout",
     "output_type": "stream",
     "text": [
      "1897\n"
     ]
    },
    {
     "name": "stderr",
     "output_type": "stream",
     "text": [
      " 77%|███████▋  | 570/745 [00:09<00:02, 58.97it/s]"
     ]
    },
    {
     "name": "stdout",
     "output_type": "stream",
     "text": [
      "562\n",
      "2207\n",
      "2783\n",
      "1023\n",
      "551\n",
      "565\n",
      "2288\n",
      "1018\n",
      "2236\n",
      "842\n",
      "429\n",
      "890\n",
      "1351\n",
      "2571\n",
      "937\n",
      "2594\n",
      "1942\n",
      "278\n",
      "602\n"
     ]
    },
    {
     "name": "stderr",
     "output_type": "stream",
     "text": [
      " 79%|███████▉  | 589/745 [00:09<00:02, 70.23it/s]"
     ]
    },
    {
     "name": "stdout",
     "output_type": "stream",
     "text": [
      "136\n",
      "1040\n",
      "1733\n",
      "440\n",
      "2443\n",
      "1042\n",
      "2585\n",
      "694\n",
      "2092\n",
      "294\n",
      "752\n",
      "1761\n",
      "451\n",
      "671\n",
      "465\n",
      "1276\n"
     ]
    },
    {
     "name": "stderr",
     "output_type": "stream",
     "text": [
      " 82%|████████▏ | 610/745 [00:09<00:01, 83.44it/s]"
     ]
    },
    {
     "name": "stdout",
     "output_type": "stream",
     "text": [
      "952\n",
      "1857\n",
      "2028\n",
      "795\n",
      "260\n",
      "2674\n",
      "2603\n",
      "941\n",
      "110\n",
      "2058\n",
      "1566\n",
      "2164\n",
      "1884\n",
      "2891\n",
      "2181\n",
      "1626\n",
      "244\n",
      "1451\n",
      "1782\n",
      "2271\n",
      "2166\n"
     ]
    },
    {
     "name": "stderr",
     "output_type": "stream",
     "text": [
      " 85%|████████▍ | 631/745 [00:09<00:01, 79.96it/s]"
     ]
    },
    {
     "name": "stdout",
     "output_type": "stream",
     "text": [
      "2446\n",
      "1086\n",
      "2349\n",
      "1422\n",
      "2598\n",
      "2614\n",
      "687\n",
      "867\n",
      "1936\n",
      "2589\n",
      "145\n",
      "2408\n",
      "74\n",
      "2647\n",
      "607\n"
     ]
    },
    {
     "name": "stderr",
     "output_type": "stream",
     "text": [
      " 88%|████████▊ | 653/745 [00:10<00:01, 64.82it/s]"
     ]
    },
    {
     "name": "stdout",
     "output_type": "stream",
     "text": [
      "2396\n",
      "2424\n",
      "1457\n",
      "2938\n",
      "304\n",
      "793\n",
      "252\n",
      "1376\n",
      "2304\n",
      "1784\n",
      "193\n",
      "1560\n",
      "777\n",
      "576\n",
      "2540\n",
      "1259\n",
      "2779\n",
      "563\n",
      "2086\n",
      "174\n",
      "2269\n",
      "2665\n"
     ]
    },
    {
     "name": "stderr",
     "output_type": "stream",
     "text": [
      " 89%|████████▉ | 662/745 [00:10<00:01, 62.48it/s]"
     ]
    },
    {
     "name": "stdout",
     "output_type": "stream",
     "text": [
      "1891\n",
      "880\n",
      "2438\n",
      "2174\n",
      "1084\n",
      "2283\n",
      "64\n",
      "1360\n",
      "1799\n",
      "1446\n",
      "101\n",
      "216\n",
      "2667\n",
      "417\n",
      "324\n",
      "2959\n",
      "2960\n",
      "515\n",
      "962\n",
      "2931\n",
      "774\n",
      "1202\n"
     ]
    },
    {
     "name": "stderr",
     "output_type": "stream",
     "text": [
      " 92%|█████████▏| 689/745 [00:10<00:00, 79.04it/s]"
     ]
    },
    {
     "name": "stdout",
     "output_type": "stream",
     "text": [
      "1926\n",
      "1794\n",
      "3000\n",
      "2633\n",
      "205\n",
      "1137\n",
      "142\n",
      "2255\n",
      "2447\n",
      "1937\n",
      "1081\n",
      "1953\n",
      "2815\n",
      "164\n"
     ]
    },
    {
     "name": "stderr",
     "output_type": "stream",
     "text": [
      " 94%|█████████▍| 699/745 [00:10<00:00, 73.43it/s]"
     ]
    },
    {
     "name": "stdout",
     "output_type": "stream",
     "text": [
      "1743\n",
      "2230\n",
      "1211\n",
      "2505\n",
      "2422\n",
      "2757\n",
      "71\n",
      "1889\n",
      "1359\n",
      "1103\n",
      "799\n",
      "868\n",
      "1014\n"
     ]
    },
    {
     "name": "stderr",
     "output_type": "stream",
     "text": [
      " 95%|█████████▌| 708/745 [00:11<00:00, 66.99it/s]"
     ]
    },
    {
     "name": "stdout",
     "output_type": "stream",
     "text": [
      "1257\n",
      "2544\n",
      "1718\n",
      "1509\n",
      "660\n",
      "971\n",
      "1332\n",
      "1385\n",
      "2533\n",
      "1615\n",
      "1729\n",
      "2069\n",
      "357\n",
      "288\n",
      "855\n"
     ]
    },
    {
     "name": "stderr",
     "output_type": "stream",
     "text": [
      " 98%|█████████▊| 728/745 [00:11<00:00, 72.09it/s]"
     ]
    },
    {
     "name": "stdout",
     "output_type": "stream",
     "text": [
      "728\n",
      "2738\n",
      "2920\n",
      "2690\n",
      "150\n",
      "328\n",
      "1895\n",
      "201\n",
      "418\n",
      "1310\n",
      "181\n",
      "1287\n",
      "2240\n"
     ]
    },
    {
     "name": "stderr",
     "output_type": "stream",
     "text": [
      " 99%|█████████▉| 736/745 [00:11<00:00, 72.43it/s]"
     ]
    },
    {
     "name": "stdout",
     "output_type": "stream",
     "text": [
      "224\n",
      "1116\n",
      "1345\n",
      "1913\n",
      "873\n",
      "2043\n",
      "2334\n",
      "2177\n",
      "875\n",
      "2936\n"
     ]
    },
    {
     "name": "stderr",
     "output_type": "stream",
     "text": [
      "100%|██████████| 745/745 [00:11<00:00, 63.55it/s]"
     ]
    },
    {
     "name": "stdout",
     "output_type": "stream",
     "text": [
      "2169\n",
      "2237\n",
      "2308\n",
      "2561\n",
      "1237\n"
     ]
    },
    {
     "name": "stderr",
     "output_type": "stream",
     "text": [
      "\n"
     ]
    }
   ],
   "source": [
    "test_models(train_dataframe)"
   ]
  },
  {
   "cell_type": "code",
   "execution_count": 53,
   "id": "0369deea",
   "metadata": {},
   "outputs": [],
   "source": [
    "list_label_real=[]\n",
    "list_pred_real=[]\n",
    "list_solubility_real=[]\n",
    "\n",
    "\n",
    "for i in range(0,len(list_label)):\n",
    "    A=list_label[i].tolist()\n",
    "    list_label_real.append(A[0])\n",
    "    \n",
    "for j in range (0,len(list_pred)):\n",
    "    B=list_pred[j]\n",
    "    list_pred_real.append(B[0])\n",
    "    \n",
    "for k in range(0,len(list_solubility)):\n",
    "    C=list_solubility[k].tolist()\n",
    "    list_solubility_real.append(C[0])"
   ]
  },
  {
   "cell_type": "code",
   "execution_count": 58,
   "id": "b61da2b7",
   "metadata": {},
   "outputs": [],
   "source": [
    "def analysis(y_true, y_pred):\n",
    "    binary_pred = [1 if pred >= 0.5 else 0 for pred in y_pred]\n",
    "    binary_true = [1 if true >= 0.5 else 0 for true in y_true]\n",
    "\n",
    "    # continous evaluate\n",
    "    pearson = pearsonr(y_true, y_pred)\n",
    "    r2 = metrics.r2_score(y_true, y_pred)\n",
    "    rmse = np.square(np.subtract(y_true, y_pred)).mean()\n",
    "\n",
    "    # binary evaluate\n",
    "    binary_acc = metrics.accuracy_score(binary_true, binary_pred)\n",
    "    precision = metrics.precision_score(binary_true, binary_pred)\n",
    "    recall = metrics.recall_score(binary_true, binary_pred)\n",
    "    f1 = metrics.f1_score(binary_true, binary_pred)\n",
    "    auc = metrics.roc_auc_score(binary_true, y_pred)\n",
    "    mcc = metrics.matthews_corrcoef(binary_true, binary_pred)\n",
    "    TN, FP, FN, TP = metrics.confusion_matrix(binary_true, binary_pred).ravel()\n",
    "    sensitivity = 1.0 * TP / (TP + FN)\n",
    "    specificity = 1.0 * TN / (FP + TN)\n",
    "\n",
    "    result = {\n",
    "        'r2': r2,\n",
    "        'rmse': rmse,\n",
    "        'binary_acc': binary_acc,\n",
    "        'precision': precision,\n",
    "        'recall': recall,\n",
    "        'f1': f1,\n",
    "        'auc': auc,\n",
    "        'mcc': mcc,\n",
    "        'sensitivity': sensitivity,\n",
    "        'specificity': specificity,\n",
    "    }\n",
    "    return result"
   ]
  },
  {
   "cell_type": "code",
   "execution_count": 55,
   "id": "13769222",
   "metadata": {},
   "outputs": [
    {
     "name": "stdout",
     "output_type": "stream",
     "text": [
      "0.4346736535097122\n"
     ]
    },
    {
     "data": {
      "text/plain": [
       "<matplotlib.collections.PathCollection at 0x262bb79d280>"
      ]
     },
     "execution_count": 55,
     "metadata": {},
     "output_type": "execute_result"
    },
    {
     "data": {
      "image/png": "[encoded data removed]",
      "text/plain": [
       "<Figure size 640x480 with 1 Axes>"
      ]
     },
     "metadata": {},
     "output_type": "display_data"
    }
   ],
   "source": [
    "import matplotlib.pyplot as plt\n",
    "r2 = metrics.r2_score(list_solubility_real, list_pred_real)\n",
    "print(r2)\n",
    "\n",
    "\n",
    "plt.scatter(list_solubility_real, list_pred_real,color='blue')"
   ]
  },
  {
   "cell_type": "code",
   "execution_count": 62,
   "id": "f1ade682",
   "metadata": {},
   "outputs": [
    {
     "data": {
      "text/plain": [
       "{'r2': 0.4346736535097122,\n",
       " 'rmse': 0.06031453666557365,\n",
       " 'binary_acc': 0.7865771812080536,\n",
       " 'precision': 0.7299465240641712,\n",
       " 'recall': 0.824773413897281,\n",
       " 'f1': 0.7744680851063831,\n",
       " 'auc': 0.8571960243443234,\n",
       " 'mcc': 0.5772009509861091,\n",
       " 'sensitivity': 0.824773413897281,\n",
       " 'specificity': 0.7560386473429952}"
      ]
     },
     "execution_count": 62,
     "metadata": {},
     "output_type": "execute_result"
    }
   ],
   "source": [
    "analysis(list_solubility_real, list_pred_real)"
   ]
  },
  {
   "cell_type": "code",
   "execution_count": 61,
   "id": "e8b0017c",
   "metadata": {},
   "outputs": [
    {
     "name": "stdout",
     "output_type": "stream",
     "text": [
      "     label  prediction  solubility\n",
      "0     1374    0.834577        0.48\n",
      "1      610    0.560570        0.10\n",
      "2      430    0.336913        0.88\n",
      "3     2155    0.555670        0.28\n",
      "4     1617    0.375149        0.12\n",
      "..     ...         ...         ...\n",
      "740   2169    0.886742        0.99\n",
      "741   2237    0.420446        0.41\n",
      "742   2308    0.402169        0.35\n",
      "743   2561    0.402970        0.35\n",
      "744   1237    0.772498        1.00\n",
      "\n",
      "[745 rows x 3 columns]\n"
     ]
    }
   ],
   "source": [
    "columns=['label','prediction','solubility']\n",
    "df = pd.DataFrame(list(zip(list_label_real, list_pred_real,list_solubility_real)))\n",
    "df.columns = columns\n",
    "print(df)"
   ]
  },
  {
   "cell_type": "code",
   "execution_count": 63,
   "id": "290dc53c",
   "metadata": {},
   "outputs": [],
   "source": [
    "df.to_csv(\"C:\\\\Users\\\\johnkwon\\\\Desktop\\\\[Ultima]_Solubility\\\\Data\\\\Ecoli_data\\\\Testing\\\\Stacking\\\\GCN_testing.csv\")\n",
    "\n",
    "\n"
   ]
  }
 ],
 "metadata": {
  "kernelspec": {
   "display_name": "Python 3 (ipykernel)",
   "language": "python",
   "name": "python3"
  },
  "language_info": {
   "codemirror_mode": {
    "name": "ipython",
    "version": 3
   },
   "file_extension": ".py",
   "mimetype": "text/x-python",
   "name": "python",
   "nbconvert_exporter": "python",
   "pygments_lexer": "ipython3",
   "version": "3.9.13"
  }
 },
 "nbformat": 4,
 "nbformat_minor": 5
}
