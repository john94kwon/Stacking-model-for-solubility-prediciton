{
 "cells": [
  {
   "cell_type": "code",
   "execution_count": 1,
   "id": "d14a8d2e",
   "metadata": {},
   "outputs": [],
   "source": [
    "import pandas as pd\n",
    "import re"
   ]
  },
  {
   "cell_type": "code",
   "execution_count": 2,
   "id": "886d0770",
   "metadata": {},
   "outputs": [
    {
     "name": "stdout",
     "output_type": "stream",
     "text": [
      "0\n",
      "1\n",
      "2\n",
      "3\n",
      "4\n"
     ]
    },
    {
     "data": {
      "text/plain": [
       "[59.0,\n",
       " 59.0,\n",
       " 59.0,\n",
       " 59.0,\n",
       " 59.0,\n",
       " 59.0,\n",
       " 59.0,\n",
       " 59.0,\n",
       " 59.0,\n",
       " 59.0,\n",
       " 59.0,\n",
       " 59.0,\n",
       " 59.0,\n",
       " 59.0,\n",
       " 59.0,\n",
       " 59.0,\n",
       " 59.0,\n",
       " 59.0,\n",
       " 59.0,\n",
       " 59.0,\n",
       " 59.0,\n",
       " 59.0,\n",
       " 59.0,\n",
       " 59.0,\n",
       " 59.0,\n",
       " 59.0,\n",
       " 59.0,\n",
       " 59.0,\n",
       " 59.0,\n",
       " 59.0,\n",
       " 59.0,\n",
       " 59.0,\n",
       " 59.0,\n",
       " 59.0,\n",
       " 59.0,\n",
       " 59.0,\n",
       " 59.0,\n",
       " 59.0,\n",
       " 59.0,\n",
       " 59.0,\n",
       " 59.0,\n",
       " 59.0,\n",
       " 59.0,\n",
       " 59.0,\n",
       " 59.0,\n",
       " 59.0,\n",
       " 59.0,\n",
       " 59.0,\n",
       " 59.0,\n",
       " 59.0,\n",
       " 59.0,\n",
       " 59.0,\n",
       " 59.0,\n",
       " 59.0,\n",
       " 59.0,\n",
       " 59.0,\n",
       " 59.0,\n",
       " 59.0,\n",
       " 59.0,\n",
       " 59.0]"
      ]
     },
     "execution_count": 2,
     "metadata": {},
     "output_type": "execute_result"
    }
   ],
   "source": [
    "list1=[]\n",
    "\n",
    "directory=\"C:\\\\Users\\\\johnkwon\\\\Desktop\\\\[Ultima]_Solubility\\\\Data\\\\Generative\\\\PQR\\\\\" #set directory where .txt files are located\n",
    "\n",
    "\n",
    "for i in range(0,5):\n",
    "    print(i)\n",
    "    file_name=directory+str(i)+'.txt'\n",
    "    f=open(file_name)\n",
    "    lines=f.readlines()\n",
    "    for j in range(4):\n",
    "        line_ssd=lines[53+j] #ssd:secondary structure determination\n",
    "        line_ssd=line_ssd.split()\n",
    "        try:\n",
    "            val=line_ssd[12]\n",
    "            list1.append(val)\n",
    "        except:\n",
    "            val=\"0\"\n",
    "            list1.append(val)\n",
    "    \n",
    "    line_mlp=lines[57]\n",
    "    line_coulombic=lines[59]\n",
    "    line_surfacearea=lines[60]\n",
    "    line_sasa=lines[61]\n",
    "    line_vol=lines[62]\n",
    "    line_hbonds=lines[63]\n",
    "    line_contact=lines[64]\n",
    "    line_clash=lines[65]\n",
    "    \n",
    "    line_mlp=line_mlp.split()\n",
    "    line_coulombic=line_coulombic.split()    \n",
    "    line_surfacearea=line_surfacearea.split()\n",
    "    line_sasa=line_sasa.split()\n",
    "    line_vol=line_vol.split()\n",
    "    line_hbonds=line_hbonds.split()\n",
    "    line_contact=line_contact.split()\n",
    "    line_clash=line_clash.split()\n",
    "    surfarea = line_surfacearea[-1]\n",
    "    sasa = line_sasa[-1]\n",
    "    vol = line_vol[-1]\n",
    "    hbonds = line_hbonds[5]\n",
    "    contacts=line_contact[5]\n",
    "    clashes=line_clash[5]\n",
    "    \n",
    "    val_mlp=line_mlp[20]\n",
    "    val_coulombic=line_coulombic[10]\n",
    "    val_surfarea = re.sub('<br>$', '', surfarea)\n",
    "    val_sasa = re.sub('<br>$', '', sasa)\n",
    "    val_vol = re.sub('<br>$', '', vol)\n",
    "    val_hbonds = hbonds.replace('href=\"cxcmd:hbonds\">hbonds</a></div></div>','')\n",
    "    val_contacts=contacts.replace('href=\"cxcmd:contacts\">contacts</a></div></div>','')\n",
    "    val_clashes=clashes.replace('href=\"cxcmd:clashes\">clashes</a></div></div>','')\n",
    "    if val_clashes=='No':\n",
    "        val_clashes='0'\n",
    "    else:\n",
    "        val_clashes=val_clashes\n",
    "\n",
    "    \n",
    "    list1.append(val_mlp)\n",
    "    list1.append(val_coulombic)\n",
    "    list1.append(val_surfarea)\n",
    "    list1.append(val_sasa)\n",
    "    list1.append(val_vol)\n",
    "    list1.append(val_hbonds)\n",
    "    list1.append(val_contacts)\n",
    "    list1.append(val_clashes)\n",
    "\n",
    "    \n",
    "for j in range(len(list1)):\n",
    "    if ',' in list1[j]:\n",
    "        list1[j]=list1[j].replace(',','')\n",
    "\n",
    "[float(j) for i in list1]        \n",
    "    "
   ]
  },
  {
   "cell_type": "code",
   "execution_count": 3,
   "id": "0cd382ea",
   "metadata": {},
   "outputs": [],
   "source": [
    "def list_chunk(lst, n):\n",
    "    return [lst[i:i+n] for i in range(0, len(lst), n)]"
   ]
  },
  {
   "cell_type": "code",
   "execution_count": 4,
   "id": "5e970bbc",
   "metadata": {},
   "outputs": [
    {
     "name": "stdout",
     "output_type": "stream",
     "text": [
      "[['122', '50', '8', '64', '-0.247', '1.49', '1.013e+04', '13048', '1.818e+04', '55', '2456', '206'], ['99', '37', '6', '56', '-1.074', '-3.72', '7866', '10262', '1.462e+04', '52', '2275', '112'], ['98', '58', '0', '40', '-1.395', '-2.12', '6705', '8441.4', '1.422e+04', '58', '2757', '238'], ['99', '37', '6', '56', '-1.074', '-3.72', '7866', '10262', '1.462e+04', '52', '2275', '112'], ['114', '66', '0', '48', '-1.561', '-2.04', '9743', '13543', '1.628e+04', '73', '2112', '51']]\n"
     ]
    }
   ],
   "source": [
    "list_chunked = list_chunk(list1, 12)\n",
    "print(list_chunked)"
   ]
  },
  {
   "cell_type": "code",
   "execution_count": 5,
   "id": "e42840b6",
   "metadata": {},
   "outputs": [],
   "source": [
    "col_name=['total residue','helix','strand','coil','mean MLP',\n",
    "          'mean coulombic','surface area','SASA','volume','hbonds','contacts','clashes']\n",
    "df_list1=pd.DataFrame(list_chunked,columns=col_name)\n",
    "df_list1=df_list1.astype(float)"
   ]
  },
  {
   "cell_type": "code",
   "execution_count": 6,
   "id": "3d0307bf",
   "metadata": {},
   "outputs": [],
   "source": [
    "df_list1[\"helix propensity\"] = (\n",
    "    df_list1[\"helix\"] / df_list1[\"total residue\"])\n",
    "\n",
    "df_list1[\"strand propensity\"] = (\n",
    "    df_list1[\"strand\"] / df_list1[\"total residue\"])\n",
    "\n",
    "df_list1[\"coil propensity\"] = (\n",
    "    df_list1[\"coil\"] / df_list1[\"total residue\"])\n",
    "\n",
    "df_list1[\"favorable contacts\"] = (\n",
    "    df_list1[\"contacts\"] - df_list1[\"clashes\"])"
   ]
  },
  {
   "cell_type": "code",
   "execution_count": 7,
   "id": "bb761c63",
   "metadata": {},
   "outputs": [],
   "source": [
    "df_chimera = df_list1"
   ]
  },
  {
   "cell_type": "code",
   "execution_count": 8,
   "id": "506b6e70",
   "metadata": {},
   "outputs": [],
   "source": [
    "df_chimera=df_list1.drop(columns=['total residue','helix','strand','coil','contacts','clashes'])\n",
    "df_chimera.to_csv(\"C:\\\\Users\\\\johnkwon\\\\Desktop\\\\[Ultima]_Solubility\\\\Data\\\\Generative\\\\MLP\\\\chimera_features.csv\")\n"
   ]
  }
 ],
 "metadata": {
  "kernelspec": {
   "display_name": "Python 3 (ipykernel)",
   "language": "python",
   "name": "python3"
  },
  "language_info": {
   "codemirror_mode": {
    "name": "ipython",
    "version": 3
   },
   "file_extension": ".py",
   "mimetype": "text/x-python",
   "name": "python",
   "nbconvert_exporter": "python",
   "pygments_lexer": "ipython3",
   "version": "3.9.13"
  }
 },
 "nbformat": 4,
 "nbformat_minor": 5
}
